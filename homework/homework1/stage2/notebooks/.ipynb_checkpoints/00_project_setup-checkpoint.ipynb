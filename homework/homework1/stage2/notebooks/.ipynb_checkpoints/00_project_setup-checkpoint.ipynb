{
 "cells": [
  {
   "cell_type": "code",
   "execution_count": null,
   "id": "3839f8c4-0d89-45df-babe-bdd7546d6476",
   "metadata": {},
   "outputs": [],
   "source": [
    "# Environment & Config Check"
   ]
  },
  {
   "cell_type": "code",
   "execution_count": 2,
   "id": "010330ea-8233-4c40-a467-4a07f868c2d9",
   "metadata": {},
   "outputs": [
    {
     "name": "stdout",
     "output_type": "stream",
     "text": [
      ".env loaded (if present)\n",
      "[2 3 4]\n"
     ]
    }
   ],
   "source": [
    "from pathlib import Path\n",
    "#tells Python where to find or save a file\n",
    "\n",
    "from dotenv import load_dotenv \n",
    "# Detenv - Loads environment variables from a .env file into Python’s environment\n",
    "# access things like API_KEY safely without hardcoding them\n",
    "\n",
    "import os\n",
    "#Lets you interact with the operating system\n",
    "\n",
    "import numpy as np\n",
    "#numerical library for arrays, math operations, and linear algebra\n",
    "\n",
    "load_dotenv()  # looks for a .env file in the current and parent directories\n",
    "print(\".env loaded (if present)\")\n",
    "\n",
    "arr = np.array([1, 2, 3])\n",
    "print(arr + 1)"
   ]
  },
  {
   "cell_type": "code",
   "execution_count": 3,
   "id": "e697b20c-d308-4659-a42e-bb3ad862f13f",
   "metadata": {},
   "outputs": [
    {
     "name": "stdout",
     "output_type": "stream",
     "text": [
      "Imports OK\n"
     ]
    }
   ],
   "source": [
    "try:\n",
    "    import numpy as np\n",
    "    from dotenv import load_dotenv\n",
    "    print(\"Imports OK\")\n",
    "except Exception as e:\n",
    "    print(\"Import error:\", e)\n",
    "    raise\n",
    "\n",
    "#Raise - manually trigger an exception"
   ]
  },
  {
   "cell_type": "raw",
   "id": "e5814096-a7d2-4ab9-8084-242ef1308b6d",
   "metadata": {},
   "source": [
    "           ┌─────────────┐\n",
    "           │   try       │\n",
    "           │  code runs  │\n",
    "           └─────┬───────┘\n",
    "                 │\n",
    "        ┌────────┴─────────┐\n",
    "        │                  │\n",
    "   No Exception        Exception occurs\n",
    "        │                  │\n",
    "        │         ┌────────┴─────────┐\n",
    "        │         │      except      │\n",
    "        │         │ handle exception │\n",
    "        │         └────────┬────────┘\n",
    "        │                  │\n",
    "        │           ┌──────┴───────┐\n",
    "        │           │    raise      │\n",
    "        │           │ (re-throw or │\n",
    "        │           │  new error)  │\n",
    "        │           └──────┬───────┘\n",
    "        │                  │\n",
    "        └──────────────────┘\n"
   ]
  },
  {
   "cell_type": "code",
   "execution_count": null,
   "id": "a301b1ee-b6f3-4bfa-b329-9d3f0779a0bd",
   "metadata": {},
   "outputs": [],
   "source": []
  }
 ],
 "metadata": {
  "kernelspec": {
   "display_name": "Python 3 (ipykernel)",
   "language": "python",
   "name": "python3"
  },
  "language_info": {
   "codemirror_mode": {
    "name": "ipython",
    "version": 3
   },
   "file_extension": ".py",
   "mimetype": "text/x-python",
   "name": "python",
   "nbconvert_exporter": "python",
   "pygments_lexer": "ipython3",
   "version": "3.13.5"
  }
 },
 "nbformat": 4,
 "nbformat_minor": 5
}
