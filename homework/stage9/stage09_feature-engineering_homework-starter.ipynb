{
 "cells": [
  {
   "cell_type": "code",
   "execution_count": 2,
   "id": "4a9fc836-bb91-4574-b50a-c8accefd5057",
   "metadata": {},
   "outputs": [],
   "source": [
    "import pandas as pd\n",
    "import numpy as np\n",
    "import matplotlib.pyplot as plt"
   ]
  },
  {
   "cell_type": "code",
   "execution_count": 3,
   "id": "3770fea2-3124-4dc0-b234-94a4b1d5c47a",
   "metadata": {},
   "outputs": [
    {
     "data": {
      "text/html": [
       "<div>\n",
       "<style scoped>\n",
       "    .dataframe tbody tr th:only-of-type {\n",
       "        vertical-align: middle;\n",
       "    }\n",
       "\n",
       "    .dataframe tbody tr th {\n",
       "        vertical-align: top;\n",
       "    }\n",
       "\n",
       "    .dataframe thead th {\n",
       "        text-align: right;\n",
       "    }\n",
       "</style>\n",
       "<table border=\"1\" class=\"dataframe\">\n",
       "  <thead>\n",
       "    <tr style=\"text-align: right;\">\n",
       "      <th></th>\n",
       "      <th>income</th>\n",
       "      <th>monthly_spend</th>\n",
       "      <th>credit_score</th>\n",
       "      <th>age</th>\n",
       "    </tr>\n",
       "  </thead>\n",
       "  <tbody>\n",
       "    <tr>\n",
       "      <th>0</th>\n",
       "      <td>84365</td>\n",
       "      <td>1731</td>\n",
       "      <td>659</td>\n",
       "      <td>29</td>\n",
       "    </tr>\n",
       "    <tr>\n",
       "      <th>1</th>\n",
       "      <td>50823</td>\n",
       "      <td>2734</td>\n",
       "      <td>721</td>\n",
       "      <td>41</td>\n",
       "    </tr>\n",
       "    <tr>\n",
       "      <th>2</th>\n",
       "      <td>52077</td>\n",
       "      <td>2242</td>\n",
       "      <td>651</td>\n",
       "      <td>54</td>\n",
       "    </tr>\n",
       "    <tr>\n",
       "      <th>3</th>\n",
       "      <td>43905</td>\n",
       "      <td>2356</td>\n",
       "      <td>777</td>\n",
       "      <td>34</td>\n",
       "    </tr>\n",
       "    <tr>\n",
       "      <th>4</th>\n",
       "      <td>72981</td>\n",
       "      <td>1343</td>\n",
       "      <td>613</td>\n",
       "      <td>60</td>\n",
       "    </tr>\n",
       "  </tbody>\n",
       "</table>\n",
       "</div>"
      ],
      "text/plain": [
       "   income  monthly_spend  credit_score  age\n",
       "0   84365           1731           659   29\n",
       "1   50823           2734           721   41\n",
       "2   52077           2242           651   54\n",
       "3   43905           2356           777   34\n",
       "4   72981           1343           613   60"
      ]
     },
     "execution_count": 3,
     "metadata": {},
     "output_type": "execute_result"
    }
   ],
   "source": [
    "# Synthetic dataset\n",
    "np.random.seed(1)\n",
    "n = 100 \n",
    "df = pd.DataFrame({\n",
    "    \"income\": np.random.normal(loc=60000, scale=15000, size=n).astype(int),\n",
    "    \"monthly_spend\": np.random.normal(loc=2000, scale=600, size=n).astype(int),\n",
    "    \"credit_score\": np.random.normal(loc=680, scale=50, size=n).astype(int),\n",
    "    \"age\": np.random.randint(22, 65, size=n)  # added age for more features later\n",
    "})\n",
    "\n",
    "df.head()"
   ]
  },
  {
   "cell_type": "code",
   "execution_count": 6,
   "id": "3ebce7b5-1feb-4658-b7f2-4dd43c63a62c",
   "metadata": {},
   "outputs": [],
   "source": [
    "df['spend_income_ratio'] = df['monthly_spend'] / df['income'] \n",
    "#Rationale:\n",
    "# This feature shows what fraction of income goes toward spending.\n",
    "#A higher ratio → less savings potential, possible financial stress."
   ]
  },
  {
   "cell_type": "code",
   "execution_count": 11,
   "id": "61bc8d96-71b1-4398-93e8-eb10f5a2806e",
   "metadata": {},
   "outputs": [],
   "source": [
    "df['savings_rate'] = (df['income'] - df['monthly_spend'] * 12) / df['income'] \n",
    "# Rationale: \n",
    "#Annual savings after subtracting yearly expenses from income.\n",
    "#Values close to 1 mean high savings; negative values indicate overspending."
   ]
  },
  {
   "cell_type": "code",
   "execution_count": 8,
   "id": "ce107ee6-c109-48f1-9c46-f7d28bb64dbf",
   "metadata": {},
   "outputs": [],
   "source": [
    "df['income_per_credit'] = df['income'] / (df['credit_score'] + 1e-6)  \n",
    "# Rationale: \n",
    "# Combines income with credit score to measure income per unit of creditworthiness.\n",
    "# May reveal differences in financial efficiency not seen in raw variables."
   ]
  },
  {
   "cell_type": "code",
   "execution_count": 14,
   "id": "c472abbc-57db-4add-b7be-23c232002008",
   "metadata": {},
   "outputs": [
    {
     "data": {
      "image/png": "[encoded data removed]",
      "text/plain": [
       "<Figure size 800x400 with 4 Axes>"
      ]
     },
     "metadata": {},
     "output_type": "display_data"
    }
   ],
   "source": [
    "#visual:\n",
    "df[['spend_income_ratio','savings_rate','income_per_credit']].hist(bins=15, figsize=(8,4))\n",
    "plt.tight_layout()\n",
    "plt.show()"
   ]
  },
  {
   "cell_type": "code",
   "execution_count": null,
   "id": "2c8a95b0-de11-4698-8aa7-b28fe893ff3e",
   "metadata": {},
   "outputs": [],
   "source": []
  }
 ],
 "metadata": {
  "kernelspec": {
   "display_name": "Python 3 (ipykernel)",
   "language": "python",
   "name": "python3"
  },
  "language_info": {
   "codemirror_mode": {
    "name": "ipython",
    "version": 3
   },
   "file_extension": ".py",
   "mimetype": "text/x-python",
   "name": "python",
   "nbconvert_exporter": "python",
   "pygments_lexer": "ipython3",
   "version": "3.10.18"
  }
 },
 "nbformat": 4,
 "nbformat_minor": 5
}
