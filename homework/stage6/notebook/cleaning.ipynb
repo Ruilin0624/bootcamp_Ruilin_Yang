{
 "cells": [
  {
   "cell_type": "code",
   "execution_count": 10,
   "id": "7c2aba04-6f16-498f-857e-dd95c997de34",
   "metadata": {},
   "outputs": [
    {
     "ename": "ModuleNotFoundError",
     "evalue": "No module named 'src'",
     "output_type": "error",
     "traceback": [
      "\u001b[0;31m---------------------------------------------------------------------------\u001b[0m",
      "\u001b[0;31mModuleNotFoundError\u001b[0m                       Traceback (most recent call last)",
      "Cell \u001b[0;32mIn[10], line 1\u001b[0m\n\u001b[0;32m----> 1\u001b[0m \u001b[38;5;28;01mimport\u001b[39;00m\u001b[38;5;250m \u001b[39m\u001b[38;5;21;01msrc\u001b[39;00m\n",
      "\u001b[0;31mModuleNotFoundError\u001b[0m: No module named 'src'"
     ]
    }
   ],
   "source": [
    "import src"
   ]
  },
  {
   "cell_type": "code",
   "execution_count": 9,
   "id": "0a8c5dae-d84a-4746-b019-67e876b575fe",
   "metadata": {},
   "outputs": [
    {
     "ename": "ModuleNotFoundError",
     "evalue": "No module named 'src'",
     "output_type": "error",
     "traceback": [
      "\u001b[0;31m---------------------------------------------------------------------------\u001b[0m",
      "\u001b[0;31mModuleNotFoundError\u001b[0m                       Traceback (most recent call last)",
      "Cell \u001b[0;32mIn[9], line 3\u001b[0m\n\u001b[1;32m      1\u001b[0m \u001b[38;5;28;01mimport\u001b[39;00m\u001b[38;5;250m \u001b[39m\u001b[38;5;21;01mpandas\u001b[39;00m\u001b[38;5;250m \u001b[39m\u001b[38;5;28;01mas\u001b[39;00m\u001b[38;5;250m \u001b[39m\u001b[38;5;21;01mpd\u001b[39;00m\n\u001b[1;32m      2\u001b[0m \u001b[38;5;28;01mfrom\u001b[39;00m\u001b[38;5;250m \u001b[39m\u001b[38;5;21;01mpathlib\u001b[39;00m\u001b[38;5;250m \u001b[39m\u001b[38;5;28;01mimport\u001b[39;00m Path\n\u001b[0;32m----> 3\u001b[0m \u001b[38;5;28;01mfrom\u001b[39;00m\u001b[38;5;250m \u001b[39m\u001b[38;5;21;01msrc\u001b[39;00m\u001b[38;5;21;01m.\u001b[39;00m\u001b[38;5;21;01mcleaning\u001b[39;00m\u001b[38;5;250m \u001b[39m\u001b[38;5;28;01mimport\u001b[39;00m fill_missing_median, drop_missing, normalize_data\n\u001b[1;32m      5\u001b[0m \u001b[38;5;66;03m# 1. Load dataset\u001b[39;00m\n\u001b[1;32m      6\u001b[0m raw_file \u001b[38;5;241m=\u001b[39m DATA_DIR_RAW \u001b[38;5;241m/\u001b[39m \u001b[38;5;124m\"\u001b[39m\u001b[38;5;124msample_data.csv\u001b[39m\u001b[38;5;124m\"\u001b[39m\n",
      "\u001b[0;31mModuleNotFoundError\u001b[0m: No module named 'src'"
     ]
    }
   ],
   "source": [
    "import pandas as pd\n",
    "from pathlib import Path\n",
    "from src.cleaning import fill_missing_median, drop_missing, normalize_data\n",
    "\n",
    "# 1. Load dataset\n",
    "raw_file = DATA_DIR_RAW / \"sample_data.csv\"\n",
    "df = pd.read_csv(raw_file)\n",
    "df.head()\n",
    "\n",
    "# 2. Apply cleaning functions\n",
    "df_cleaned = fill_missing_median(df)\n",
    "df_cleaned = drop_missing(df_cleaned, threshold=0.5)\n",
    "df_cleaned = normalize_data(df_cleaned)\n",
    "\n",
    "print(\"Cleaned Data Shape:\", df_cleaned.shape)\n",
    "\n",
    "# 3. Save cleaned dataset\n",
    "DATA_DIR_PROCESSED.mkdir(parents=True, exist_ok=True)\n",
    "processed_file = DATA_DIR_PROCESSED / \"cleaned_data.csv\"\n",
    "df_cleaned.to_csv(processed_file, index=False)\n",
    "print(\"Saved cleaned data to:\", processed_file)\n",
    "\n",
    "#3.1 to parquet\n",
    "parquet_path = DATA_DIR_PROCESSED / \"cleaned_data.parquet\"\n",
    "try:\n",
    "    df.to_parquet(parquet_path)\n",
    "\n",
    "except Exception as e:\n",
    "    print('Parquet engine not available. Install pyarrow or fastparquet to complete this step.')\n",
    "    parquet_path = None\n",
    "parquet_path\n",
    "\n",
    "\n",
    "# 4. Compare original vs cleaned\n",
    "def validate_df(orignial_csv, cleaned_csv, columns=None):\n",
    "    shapes_match = orignial_csv.shape == cleaned_csv.shape\n",
    "    dtypes_match = all(orignial_csv[col].dtype == cleaned_csv[col].dtype for col in critical_columns)\n",
    "  \n",
    "    return {\"shapes_match\": shapes_match, \"dtypes_match\": dtypes_match} #why aren't they matching?\n",
    "\n",
    "validation_results = validate_df(orignial_csv, cleaned_csv)\n",
    "print(validation_results)"
   ]
  },
  {
   "cell_type": "code",
   "execution_count": null,
   "id": "5ca2040b-e943-4388-9392-97fdabc6897b",
   "metadata": {},
   "outputs": [],
   "source": []
  },
  {
   "cell_type": "code",
   "execution_count": null,
   "id": "e4bf95aa-be29-498c-be26-0f2d438ff6a1",
   "metadata": {},
   "outputs": [],
   "source": []
  }
 ],
 "metadata": {
  "kernelspec": {
   "display_name": "Python 3 (ipykernel)",
   "language": "python",
   "name": "python3"
  },
  "language_info": {
   "codemirror_mode": {
    "name": "ipython",
    "version": 3
   },
   "file_extension": ".py",
   "mimetype": "text/x-python",
   "name": "python",
   "nbconvert_exporter": "python",
   "pygments_lexer": "ipython3",
   "version": "3.10.18"
  }
 },
 "nbformat": 4,
 "nbformat_minor": 5
}
