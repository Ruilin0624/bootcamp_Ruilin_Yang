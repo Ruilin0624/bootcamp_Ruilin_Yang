{
 "cells": [
  {
   "cell_type": "code",
   "execution_count": null,
   "id": "0a8c5dae-d84a-4746-b019-67e876b575fe",
   "metadata": {},
   "outputs": [],
   "source": [
    "to be completed"
   ]
  }
 ],
 "metadata": {
  "kernelspec": {
   "display_name": "Python 3 (ipykernel)",
   "language": "python",
   "name": "python3"
  },
  "language_info": {
   "codemirror_mode": {
    "name": "ipython",
    "version": 3
   },
   "file_extension": ".py",
   "mimetype": "text/x-python",
   "name": "python",
   "nbconvert_exporter": "python",
   "pygments_lexer": "ipython3",
   "version": "3.10.18"
  }
 },
 "nbformat": 4,
 "nbformat_minor": 5
}
