{
 "cells": [
  {
   "cell_type": "code",
   "execution_count": 2,
   "id": "5b8760a5-d279-41ce-b4e2-8435f898ce1d",
   "metadata": {},
   "outputs": [
    {
     "name": "stdout",
     "output_type": "stream",
     "text": [
      "CSV already exists at data/instructor_dirty.csv\n"
     ]
    }
   ],
   "source": [
    "# Generate demo CSV if not exists\n",
    "import os\n",
    "import pandas as pd\n",
    "\n",
    "csv_path = 'data/instructor_dirty.csv'\n",
    "# create the name of the csv\n",
    "os.makedirs('data', exist_ok=True)\n",
    "#makedirs - create a folder called data\n",
    "#exist_ok = True --> don’t throw an error if the folder already exists.\n",
    "\n",
    "\n",
    "if not os.path.exists(csv_path):\n",
    "    # create a csv file if doesn't exist\n",
    "    df_demo = pd.DataFrame({\n",
    "        'numeric_col': [10, None, 40, 55, 70],\n",
    "        'category_col': ['A', 'B', 'A', 'B', 'C'],\n",
    "        'price': ['$100', '$200', '$150', None, '$250'],\n",
    "        'date_str': ['2025-08-01','2025-08-02',None,'2025-08-04','2025-08-05'],\n",
    "        'category': ['Electronics','Furniture','Toys','Clothing',None]\n",
    "    })\n",
    "    df_demo.to_csv(csv_path, index=False)\n",
    "    #save to-csv(name of csv ,  ) \n",
    "    #index=False - don’t add the DataFrame’s index column to the file\n",
    "    \n",
    "    print(f\"Demo CSV created at {csv_path}\")\n",
    "else:\n",
    "    print(f\"CSV already exists at {csv_path}\")\n",
    "    #print if csv exist, gives the name"
   ]
  },
  {
   "cell_type": "raw",
   "id": "9b384c18-f14e-43b9-9f5b-684b56a6158d",
   "metadata": {},
   "source": [
    "#Stage 6 Lesson - Comphrensive Data Preprocessing\n",
    "\n",
    "Dealing with data, missing data"
   ]
  },
  {
   "cell_type": "markdown",
   "id": "3e2e0bf9-3818-4468-af92-c8098328db83",
   "metadata": {},
   "source": [
    "!pip install seaborn"
   ]
  },
  {
   "cell_type": "markdown",
   "id": "e9f5d4e1-ff5f-42ee-8b91-b3a8dfd0600d",
   "metadata": {},
   "source": [
    "!pip install sklearn"
   ]
  },
  {
   "cell_type": "markdown",
   "id": "61241062-6fb8-4a39-98f6-7ef855823af7",
   "metadata": {},
   "source": [
    "!pip install missingno"
   ]
  },
  {
   "cell_type": "code",
   "execution_count": 3,
   "id": "eb3c4a86-0d34-4e9d-9d02-e1ec527c7bb1",
   "metadata": {},
   "outputs": [],
   "source": [
    "# Imports\n",
    "import pandas as pd\n",
    "import numpy as np\n",
    "import seaborn as sns\n",
    "import matplotlib.pyplot as plt\n",
    "from sklearn.preprocessing import MinMaxScaler, StandardScaler\n",
    "import missingno as msno"
   ]
  },
  {
   "cell_type": "code",
   "execution_count": 5,
   "id": "d9908f1e-82c1-4c74-840b-20c8a50af58a",
   "metadata": {
    "scrolled": true
   },
   "outputs": [
    {
     "data": {
      "text/html": [
       "<div>\n",
       "<style scoped>\n",
       "    .dataframe tbody tr th:only-of-type {\n",
       "        vertical-align: middle;\n",
       "    }\n",
       "\n",
       "    .dataframe tbody tr th {\n",
       "        vertical-align: top;\n",
       "    }\n",
       "\n",
       "    .dataframe thead th {\n",
       "        text-align: right;\n",
       "    }\n",
       "</style>\n",
       "<table border=\"1\" class=\"dataframe\">\n",
       "  <thead>\n",
       "    <tr style=\"text-align: right;\">\n",
       "      <th></th>\n",
       "      <th>numeric_col</th>\n",
       "      <th>category_col</th>\n",
       "      <th>price</th>\n",
       "      <th>date_str</th>\n",
       "      <th>category</th>\n",
       "    </tr>\n",
       "  </thead>\n",
       "  <tbody>\n",
       "    <tr>\n",
       "      <th>0</th>\n",
       "      <td>10.0</td>\n",
       "      <td>A</td>\n",
       "      <td>$100</td>\n",
       "      <td>2025-08-01</td>\n",
       "      <td>Electronics</td>\n",
       "    </tr>\n",
       "    <tr>\n",
       "      <th>1</th>\n",
       "      <td>NaN</td>\n",
       "      <td>B</td>\n",
       "      <td>$200</td>\n",
       "      <td>2025-08-02</td>\n",
       "      <td>Furniture</td>\n",
       "    </tr>\n",
       "    <tr>\n",
       "      <th>2</th>\n",
       "      <td>40.0</td>\n",
       "      <td>A</td>\n",
       "      <td>$150</td>\n",
       "      <td>NaN</td>\n",
       "      <td>Toys</td>\n",
       "    </tr>\n",
       "    <tr>\n",
       "      <th>3</th>\n",
       "      <td>55.0</td>\n",
       "      <td>B</td>\n",
       "      <td>NaN</td>\n",
       "      <td>2025-08-04</td>\n",
       "      <td>Clothing</td>\n",
       "    </tr>\n",
       "    <tr>\n",
       "      <th>4</th>\n",
       "      <td>70.0</td>\n",
       "      <td>C</td>\n",
       "      <td>$250</td>\n",
       "      <td>2025-08-05</td>\n",
       "      <td>NaN</td>\n",
       "    </tr>\n",
       "  </tbody>\n",
       "</table>\n",
       "</div>"
      ],
      "text/plain": [
       "   numeric_col category_col price    date_str     category\n",
       "0         10.0            A  $100  2025-08-01  Electronics\n",
       "1          NaN            B  $200  2025-08-02    Furniture\n",
       "2         40.0            A  $150         NaN         Toys\n",
       "3         55.0            B   NaN  2025-08-04     Clothing\n",
       "4         70.0            C  $250  2025-08-05          NaN"
      ]
     },
     "execution_count": 5,
     "metadata": {},
     "output_type": "execute_result"
    }
   ],
   "source": [
    "# Load instructor CSV\n",
    "df = pd.read_csv('data/instructor_dirty.csv')\n",
    "df.head()"
   ]
  },
  {
   "cell_type": "code",
   "execution_count": 6,
   "id": "df80dc67-d834-4f58-a39b-6b9db10877f9",
   "metadata": {
    "scrolled": true
   },
   "outputs": [
    {
     "name": "stdout",
     "output_type": "stream",
     "text": [
      "<class 'pandas.core.frame.DataFrame'>\n",
      "RangeIndex: 5 entries, 0 to 4\n",
      "Data columns (total 5 columns):\n",
      " #   Column        Non-Null Count  Dtype  \n",
      "---  ------        --------------  -----  \n",
      " 0   numeric_col   4 non-null      float64\n",
      " 1   category_col  5 non-null      object \n",
      " 2   price         4 non-null      object \n",
      " 3   date_str      4 non-null      object \n",
      " 4   category      4 non-null      object \n",
      "dtypes: float64(1), object(4)\n",
      "memory usage: 328.0+ bytes\n"
     ]
    },
    {
     "data": {
      "image/png": "[encoded data removed]",
      "text/plain": [
       "<Figure size 640x480 with 1 Axes>"
      ]
     },
     "metadata": {},
     "output_type": "display_data"
    },
    {
     "data": {
      "text/plain": [
       "<Axes: >"
      ]
     },
     "execution_count": 6,
     "metadata": {},
     "output_type": "execute_result"
    },
    {
     "data": {
      "image/png": "[encoded data removed]",
      "text/plain": [
       "<Figure size 2500x1000 with 2 Axes>"
      ]
     },
     "metadata": {},
     "output_type": "display_data"
    }
   ],
   "source": [
    "# Basic info and missing counts\n",
    "df.info()\n",
    "df.isna().sum()\n",
    "\n",
    "# Heatmap for missing data\n",
    "sns.heatmap(df.isnull(), cbar=False)\n",
    "plt.show()\n",
    "\n",
    "# missingno visualization\n",
    "msno.matrix(df)"
   ]
  },
  {
   "cell_type": "markdown",
   "id": "b9d4f62c-e225-4aa4-9f1c-649605bbeea8",
   "metadata": {},
   "source": [
    "## Missing Data Handling\n",
    "\n",
    "MCAR - missing completely at random\n",
    "- causes of the missing data are unrelated to the data\n",
    "  \n",
    "MAR - missing at random\n",
    "- missing value but can be determine by other columns\n",
    "- average subset of another row to fill out data point\n",
    "  \n",
    "MNAR - missing not at random\n",
    "- Missingness depends on the value of the variable itself.\n",
    "- figure out pattern and fill out missing values based on certain pattern\n"
   ]
  },
  {
   "cell_type": "code",
   "execution_count": 13,
   "id": "68d4cd61-6f7b-46fc-94ea-1797873bf9b6",
   "metadata": {},
   "outputs": [],
   "source": [
    "# MCAR: random missing\n",
    "df['MCAR_col'] = df['numeric_col'].mask(np.random.rand(len(df)) < 0.1)\n",
    "\n",
    "#np.random.rand(len(df)) --> generates random numbers between 0 and 1 for each row\n",
    "#np.random.rand(len(df)) < 0.1 --> turns into true of false statement \n",
    "# mask(condition = true) - replaces values with NaN where condition is True \n",
    "\n",
    "\n",
    "# MAR: missing depends on another column\n",
    "df['MAR_col'] = df['numeric_col'].mask(df['category_col']=='A')\n",
    "#missing value depends on category_col \"A\"\n",
    "#if the value is i category A --> replace it with NaN\n",
    "\n",
    "# MNAR: missing depends on its own value\n",
    "df['MNAR_col'] = df['numeric_col'].mask(df['numeric_col']>50)\n",
    "# MNAR_col value are replaced by NaN only if value in nuerica col are greater than 50\n",
    "# else copy value directly form numeric_col"
   ]
  },
  {
   "cell_type": "code",
   "execution_count": null,
   "id": "82e39c41-ede4-464d-8f36-ab9c2c1c113e",
   "metadata": {
    "scrolled": true
   },
   "outputs": [],
   "source": [
    "df('numeric_col')\n",
    "df.shape[0],df.shape[1]\n",
    "#returns list of values\n",
    "\n",
    "#len(df[]) - lenth of data frame\n",
    "df['numeric_col'].shape\n",
    "\n",
    "\n",
    "len(df['numeric_col'])\n",
    "#returns lenght of numeric_col\n",
    "\n",
    "np.random.rand(len）"
   ]
  },
  {
   "cell_type": "code",
   "execution_count": 21,
   "id": "193a2885-15db-407b-a85c-0621f2819c7e",
   "metadata": {},
   "outputs": [
    {
     "name": "stderr",
     "output_type": "stream",
     "text": [
      "/var/folders/zp/cxqlz1xd78bcshll8_fr_byw0000gn/T/ipykernel_89607/1204882926.py:10: FutureWarning: DataFrame.fillna with 'method' is deprecated and will raise in a future version. Use obj.ffill() or obj.bfill() instead.\n",
      "  df_fill_ffill = df.fillna(method='ffill')\n"
     ]
    }
   ],
   "source": [
    "# Fill missing with median\n",
    "df['numeric_col'] = df['numeric_col'].fillna(df['numeric_col'].median())\n",
    "\n",
    "# Drop rows with missing MCAR\n",
    "df.dropna(subset=['MCAR_col'], inplace=True)\n",
    "\n",
    "# Alternative strategies\n",
    "df_fill_mean = df.fillna(df.mean(numeric_only=True))\n",
    "df_fill_median = df.fillna(df.median(numeric_only=True))\n",
    "df_fill_ffill = df.fillna(method='ffill')\n",
    "\n",
    "# Threshold-based row drop example\n",
    "df_drop_thresh = df.dropna(thresh=int(0.5*df.shape[1]))"
   ]
  },
  {
   "cell_type": "code",
   "execution_count": 18,
   "id": "78de6542-115d-488d-a06a-2f3e4ed37039",
   "metadata": {},
   "outputs": [],
   "source": [
    "#Filter\n",
    "df_filtered = df[df['price'].str.replace('$','').astype(float) > 0]"
   ]
  },
  {
   "cell_type": "code",
   "execution_count": 22,
   "id": "03c5bdad-97a5-450c-8874-aa15d4ab5d01",
   "metadata": {},
   "outputs": [
    {
     "data": {
      "text/plain": [
       "0    2025-08-01\n",
       "2           NaN\n",
       "4    2025-08-05\n",
       "Name: date_str, dtype: object"
      ]
     },
     "execution_count": 22,
     "metadata": {},
     "output_type": "execute_result"
    }
   ],
   "source": [
    "df['date_str']"
   ]
  },
  {
   "cell_type": "code",
   "execution_count": null,
   "id": "d0dfcfdb-ed52-4f38-affd-3d792ab21323",
   "metadata": {},
   "outputs": [],
   "source": [
    "type(df['price'][3])"
   ]
  },
  {
   "cell_type": "markdown",
   "id": "9a759f26-e387-48c5-8395-d4cced06bbc7",
   "metadata": {},
   "source": [
    "## TYPE CORRECTIONS\n"
   ]
  },
  {
   "cell_type": "code",
   "execution_count": null,
   "id": "3b23ada0-9fa3-48a8-b92c-9ea4c3ce6005",
   "metadata": {},
   "outputs": [],
   "source": [
    "\n",
    "# Currency string to numeric\n",
    "if 'price' in df.columns:\n",
    "    df['price'] = df['price'].str.replace('$','').astype(float)\n",
    "\n",
    "# Convert string to datetime\n",
    "if 'date_str' in df.columns:\n",
    "    df['date'] = pd.to_datetime(df['date_str'], errors='coerce')\n",
    "\n",
    "# Standardize categorical column\n",
    "if 'category' in df.columns:\n",
    "    df['category'] = df['category'].str.lower().astype('category')"
   ]
  },
  {
   "cell_type": "code",
   "execution_count": 31,
   "id": "d07db842-69a5-4aaa-b7a6-5b4f0aff7eab",
   "metadata": {},
   "outputs": [
    {
     "name": "stdout",
     "output_type": "stream",
     "text": [
      "Demo DataFrame:\n",
      "   all_integers  integers_with_nan text_column mixed_column\n",
      "0             1                1.0           a            1\n",
      "1             2                2.0           b          two\n",
      "2             3                NaN           c            3\n",
      "3             4                4.0           d            4\n",
      "\n",
      "Column types:\n",
      "all_integers           int64\n",
      "integers_with_nan    float64\n",
      "text_column           object\n",
      "mixed_column          object\n",
      "dtype: object\n",
      "\n",
      "After converting 'integers_with_nan' to Int64:\n",
      "all_integers          int64\n",
      "integers_with_nan     Int64\n",
      "text_column          object\n",
      "mixed_column         object\n",
      "dtype: object\n",
      "\n",
      "Numeric columns (generic): ['all_integers', 'integers_with_nan']\n",
      "Object columns (generic): ['text_column', 'mixed_column']\n"
     ]
    }
   ],
   "source": [
    "# ---- Column Type Demo ----\n",
    "# import pandas as pd\n",
    "# import numpy as np\n",
    "\n",
    "# Demo DataFrame for column types\n",
    "df_types_demo = pd.DataFrame({\n",
    "    'all_integers': [1, 2, 3, 4],\n",
    "    'integers_with_nan': [1, 2, np.nan, 4],\n",
    "    'text_column': ['a', 'b', 'c', 'd'],\n",
    "    'mixed_column': [1, 'two', 3, 4]\n",
    "})\n",
    "\n",
    "print(\"Demo DataFrame:\")\n",
    "print(df_types_demo)\n",
    "\n",
    "# Show column types\n",
    "print(\"\\nColumn types:\")\n",
    "print(df_types_demo.dtypes)\n",
    "\n",
    "# Convert 'integers_with_nan' to nullable Int64\n",
    "df_types_demo['integers_with_nan'] = df_types_demo['integers_with_nan'].astype('Int64')\n",
    "#over write float to ito\n",
    "\n",
    "print(\"\\nAfter converting 'integers_with_nan' to Int64:\")\n",
    "print(df_types_demo.dtypes)\n",
    "\n",
    "# Select numeric columns (generic)\n",
    "numeric_cols = df_types_demo.select_dtypes(include='number').columns\n",
    "print(\"\\nNumeric columns (generic):\", list(numeric_cols))\n",
    "\n",
    "# Select object columns (generic)\n",
    "object_cols = df_types_demo.select_dtypes(include='object').columns\n",
    "print(\"Object columns (generic):\", list(object_cols))\n"
   ]
  },
  {
   "cell_type": "markdown",
   "id": "3d0008a9-bb98-41f5-91dc-455d9c6e0e39",
   "metadata": {},
   "source": [
    "## Scaling and Normalization"
   ]
  },
  {
   "cell_type": "code",
   "execution_count": 37,
   "id": "9e99bbe1-fbc5-42ed-94f3-5199a1e54448",
   "metadata": {},
   "outputs": [],
   "source": [
    "#Scaling and Normalizatin\n",
    "# MinMax scaling for numeric_col\n",
    "scaler = MinMaxScaler()\n",
    "df['numeric_scaled'] = scaler.fit_transform(df[['numeric_col']])\n",
    "\n",
    "# StandardScaler\n",
    "standardizer = StandardScaler()\n",
    "df['numeric_standard'] = standardizer.fit_transform(df[['numeric_col']])\n",
    "\n",
    "# Scale Everything by the same specturm "
   ]
  },
  {
   "cell_type": "code",
   "execution_count": 35,
   "id": "9eb8baeb-7e4b-4f84-9e26-382bb9fd6487",
   "metadata": {},
   "outputs": [
    {
     "data": {
      "text/plain": [
       "array([[0. ],\n",
       "       [0.5],\n",
       "       [1. ]])"
      ]
     },
     "execution_count": 35,
     "metadata": {},
     "output_type": "execute_result"
    }
   ],
   "source": [
    "scaler = MinMaxScaler()\n",
    "scaler.fit_transform(df[ ['numeric_col'] ])\n",
    "\n",
    "#"
   ]
  },
  {
   "cell_type": "code",
   "execution_count": 39,
   "id": "9663b7bd-8718-4412-b3ed-627888583d33",
   "metadata": {},
   "outputs": [
    {
     "data": {
      "text/html": [
       "<div>\n",
       "<style scoped>\n",
       "    .dataframe tbody tr th:only-of-type {\n",
       "        vertical-align: middle;\n",
       "    }\n",
       "\n",
       "    .dataframe tbody tr th {\n",
       "        vertical-align: top;\n",
       "    }\n",
       "\n",
       "    .dataframe thead th {\n",
       "        text-align: right;\n",
       "    }\n",
       "</style>\n",
       "<table border=\"1\" class=\"dataframe\">\n",
       "  <thead>\n",
       "    <tr style=\"text-align: right;\">\n",
       "      <th></th>\n",
       "      <th>numeric_col</th>\n",
       "    </tr>\n",
       "  </thead>\n",
       "  <tbody>\n",
       "    <tr>\n",
       "      <th>0</th>\n",
       "      <td>10.0</td>\n",
       "    </tr>\n",
       "    <tr>\n",
       "      <th>2</th>\n",
       "      <td>40.0</td>\n",
       "    </tr>\n",
       "    <tr>\n",
       "      <th>4</th>\n",
       "      <td>70.0</td>\n",
       "    </tr>\n",
       "  </tbody>\n",
       "</table>\n",
       "</div>"
      ],
      "text/plain": [
       "   numeric_col\n",
       "0         10.0\n",
       "2         40.0\n",
       "4         70.0"
      ]
     },
     "execution_count": 39,
     "metadata": {},
     "output_type": "execute_result"
    }
   ],
   "source": [
    "scaler = MinMaxScaler()\n",
    "df[['numeric_col']]"
   ]
  },
  {
   "cell_type": "code",
   "execution_count": null,
   "id": "b9505e5c-72d5-4d67-a236-d8690f3521dc",
   "metadata": {},
   "outputs": [],
   "source": [
    "def fill_missing_median(df, columns=None):\n",
    "    df_copy = df.copy()\n",
    "    if columns is None:\n",
    "        columns = df.select_dtypes(include=np.number).columns\n",
    "    for col in columns:\n",
    "        df_copy[col] = df_copy[col].fillna(df_copy[col].median())\n",
    "        #maximize the number of column can be filled\n",
    "    return df_copy\n",
    "\n",
    "def drop_missing(df, columns=None, threshold=None):\n",
    "    df_copy = df.copy()\n",
    "    if columns is not None:\n",
    "        return df_copy.dropna(subset=columns)\n",
    "    if threshold is not None:\n",
    "        return df_copy.dropna(thresh=int(threshold*df_copy.shape[1]))\n",
    "    return df_copy.dropna()\n",
    "\n",
    "def normalize_data(df, columns=None, method='minmax'):\n",
    "    df_copy = df.copy()\n",
    "    if columns is None:\n",
    "        columns = df_copy.select_dtypes(include=np.number).columns\n",
    "    if method=='minmax':\n",
    "        scaler = MinMaxScaler()\n",
    "    else:\n",
    "        scaler = StandardScaler()\n",
    "    df_copy[columns] = scaler.fit_transform(df_copy[columns])\n",
    "#overwiritng column in the copy and return it\n",
    "    return df_copy\n",
    "\n",
    "def correct_column_types(df):\n",
    "    df_copy = df.copy()\n",
    "    if 'price' in df_copy.columns:\n",
    "        df_copy['price'] = df_copy['price'].str.replace('$','').astype(float)\n",
    "    if 'date_str' in df_copy.columns:\n",
    "        df_copy['date'] = pd.to_datetime(df_copy['date_str'], errors='coerce')\n",
    "    if 'category' in df_copy.columns:\n",
    "        df_copy['category'] = df_copy['category'].str.lower().astype('category')\n",
    "    return df_copy"
   ]
  },
  {
   "cell_type": "markdown",
   "id": "86af4b32-bba8-4984-ba3d-194db5707eb5",
   "metadata": {},
   "source": [
    "## Validation & Save Cleaned Dataset"
   ]
  },
  {
   "cell_type": "code",
   "execution_count": null,
   "id": "f222b90d-3a23-45cb-b6bd-b1ab6c21db1f",
   "metadata": {},
   "outputs": [],
   "source": [
    "## Validation & Save Cleaned Dataset\n",
    "\n",
    "# Apply reusable functions\n",
    "df_cleaned = df.copy()\n",
    "df_cleaned = fill_missing_median(df_cleaned)\n",
    "df_cleaned = drop_missing(df_cleaned, threshold=0.5)\n",
    "df_cleaned = normalize_data(df_cleaned)\n",
    "df_cleaned = correct_column_types(df_cleaned)\n",
    "\n",
    "# Inspect\n",
    "df_cleaned.info()\n",
    "df_cleaned.head()\n",
    "\n",
    "# Save\n",
    "df_cleaned.to_csv('data/processed/combined_cleaned_data.csv', index=False)"
   ]
  }
 ],
 "metadata": {
  "kernelspec": {
   "display_name": "Python 3 (ipykernel)",
   "language": "python",
   "name": "python3"
  },
  "language_info": {
   "codemirror_mode": {
    "name": "ipython",
    "version": 3
   },
   "file_extension": ".py",
   "mimetype": "text/x-python",
   "name": "python",
   "nbconvert_exporter": "python",
   "pygments_lexer": "ipython3",
   "version": "3.10.18"
  }
 },
 "nbformat": 4,
 "nbformat_minor": 5
}
