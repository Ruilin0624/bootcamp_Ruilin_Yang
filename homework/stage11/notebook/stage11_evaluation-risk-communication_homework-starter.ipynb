{
 "cells": [
  {
   "cell_type": "markdown",
   "id": "6ae6a5f9-668d-47e4-afbb-6978e7e6edf1",
   "metadata": {},
   "source": [
    "# Stage 11 — Evaluation & Risk Communication\n",
    "\n",
    "\"This notebook implements the homework steps: baseline fit, bootstrap CI, scenario comparisons,\n",
    "subgroup diagnostics, visualization, and a stakeholder-facing write-up. It is self-contained and\n",
    "uses `/data/data_stage11_eval_risk.csv` if available otherwise it generates synthetic data.\n"
   ]
  },
  {
   "cell_type": "markdown",
   "id": "1078b56c-295b-401e-8086-b5f8a0163ac0",
   "metadata": {},
   "source": [
    "!pip install matplotlib pandas numpy datetime jupyterlab python-dotenv seaborn scikit-learn missingno pyarrow fastparquet"
   ]
  },
  {
   "cell_type": "code",
   "execution_count": 76,
   "id": "023d3016-c8c3-4756-a98a-4f8e762df4c3",
   "metadata": {},
   "outputs": [],
   "source": [
    "import os\n",
    "import numpy as np\n",
    "import pandas as pd\n",
    "from pathlib import Path \n",
    "import matplotlib.pyplot as plt\n",
    "from sklearn.linear_model import LinearRegression\n",
    "from sklearn.preprocessing import PolynomialFeatures\n",
    "from sklearn.impute import SimpleImputer\n",
    "from sklearn.metrics import mean_squared_error, mean_absolute_error\n",
    "from sklearn.model_selection import train_test_split\n",
    "from tqdm.auto import tqdm\n",
    "import seaborn as sns\n",
    "\n",
    "np.random.seed(3)\n",
    "\n",
    "# plotting defaults\n",
    "plt.rcParams['figure.figsize'] = (8,5)"
   ]
  },
  {
   "cell_type": "code",
   "execution_count": 88,
   "id": "db7a7350-15c0-4558-aaa5-5e64c8773cec",
   "metadata": {},
   "outputs": [
    {
     "data": {
      "text/html": [
       "<div>\n",
       "<style scoped>\n",
       "    .dataframe tbody tr th:only-of-type {\n",
       "        vertical-align: middle;\n",
       "    }\n",
       "\n",
       "    .dataframe tbody tr th {\n",
       "        vertical-align: top;\n",
       "    }\n",
       "\n",
       "    .dataframe thead th {\n",
       "        text-align: right;\n",
       "    }\n",
       "</style>\n",
       "<table border=\"1\" class=\"dataframe\">\n",
       "  <thead>\n",
       "    <tr style=\"text-align: right;\">\n",
       "      <th></th>\n",
       "      <th>date</th>\n",
       "      <th>segment</th>\n",
       "      <th>x_feature</th>\n",
       "      <th>y_target</th>\n",
       "    </tr>\n",
       "  </thead>\n",
       "  <tbody>\n",
       "    <tr>\n",
       "      <th>0</th>\n",
       "      <td>2022-06-01</td>\n",
       "      <td>B</td>\n",
       "      <td>0.298177</td>\n",
       "      <td>1.141263</td>\n",
       "    </tr>\n",
       "    <tr>\n",
       "      <th>1</th>\n",
       "      <td>2022-06-02</td>\n",
       "      <td>B</td>\n",
       "      <td>-0.054030</td>\n",
       "      <td>-1.199527</td>\n",
       "    </tr>\n",
       "    <tr>\n",
       "      <th>2</th>\n",
       "      <td>2022-06-03</td>\n",
       "      <td>A</td>\n",
       "      <td>0.685649</td>\n",
       "      <td>2.416025</td>\n",
       "    </tr>\n",
       "    <tr>\n",
       "      <th>3</th>\n",
       "      <td>2022-06-04</td>\n",
       "      <td>B</td>\n",
       "      <td>0.495321</td>\n",
       "      <td>0.764932</td>\n",
       "    </tr>\n",
       "    <tr>\n",
       "      <th>4</th>\n",
       "      <td>2022-06-05</td>\n",
       "      <td>C</td>\n",
       "      <td>-0.402499</td>\n",
       "      <td>0.800794</td>\n",
       "    </tr>\n",
       "  </tbody>\n",
       "</table>\n",
       "</div>"
      ],
      "text/plain": [
       "        date segment  x_feature  y_target\n",
       "0 2022-06-01       B   0.298177  1.141263\n",
       "1 2022-06-02       B  -0.054030 -1.199527\n",
       "2 2022-06-03       A   0.685649  2.416025\n",
       "3 2022-06-04       B   0.495321  0.764932\n",
       "4 2022-06-05       C  -0.402499  0.800794"
      ]
     },
     "execution_count": 88,
     "metadata": {},
     "output_type": "execute_result"
    }
   ],
   "source": [
    "data_dir = Path('data')\n",
    "data_dir.mkdir(exist_ok=True)\n",
    "\n",
    "csv_path = data_dir / 'data_stage11_eval_risk.csv'\n",
    "\n",
    "if csv_path.exists():\n",
    "    try:\n",
    "        df = pd.read_csv(csv_path, parse_dates=['date'])\n",
    "    except ValueError as e:\n",
    "        print(f\"Error reading CSV: {e}\\nRegenerating synthetic data...\")\n",
    "        regenerate = True\n",
    "    else:\n",
    "        regenerate = False\n",
    "else:\n",
    "    regenerate = True\n",
    "\n",
    "if regenerate:\n",
    "    n = 180\n",
    "    dates = pd.date_range('2022-06-01', periods=n, freq='D')\n",
    "    seg = np.random.choice(['A','B','C'], size=n, p=[0.5,0.3,0.2])\n",
    "    x = np.linspace(0, 9, n) + np.random.normal(0, 0.7, n)\n",
    "    y = 2.1 * x + 0.8 + np.random.standard_t(df=3, size=n) * 1.1\n",
    "    x[np.random.choice(np.arange(n), size=round(0.05*n), replace=False)] = np.nan\n",
    "    df = pd.DataFrame({'date': dates, 'segment': seg, 'x_feature': x, 'y_target': y})\n",
    "    df.to_csv(csv_path, index=False)\n",
    "\n",
    "df.head()"
   ]
  },
  {
   "cell_type": "code",
   "execution_count": 89,
   "id": "6d6a6926-ca0d-49a0-8782-f7b527cb943d",
   "metadata": {
    "jupyter": {
     "source_hidden": true
    }
   },
   "outputs": [],
   "source": [
    "import numpy as np\n",
    "\n",
    "# --- 1. Imputation functions ---\n",
    "def mean_impute(a: np.ndarray) -> np.ndarray:\n",
    "    \"\"\"Replace missing values (NaN) with the column mean.\"\"\"\n",
    "    m = np.nanmean(a)            # Mean of non-NaN values\n",
    "    out = a.copy()                # Copy original array\n",
    "    out[np.isnan(out)] = m        # Replace NaN with mean\n",
    "    return out\n",
    "\n",
    "def median_impute(a: np.ndarray) -> np.ndarray:\n",
    "    \"\"\"Replace missing values (NaN) with the column median.\"\"\"\n",
    "    m = np.nanmedian(a)\n",
    "    out = a.copy()\n",
    "    out[np.isnan(out)] = m\n",
    "    return outs\n",
    "\n",
    "\n",
    "# --- 2. Simple Linear Regression ---\n",
    "class SimpleLinReg:\n",
    "    \"\"\"Very basic linear regression using least squares.\"\"\"\n",
    "    def fit(self, X, y):\n",
    "        # Add intercept column: [1, X]\n",
    "        X1 = np.c_[np.ones(len(X)), X.ravel()]\n",
    "        # Solve for coefficients using pseudo-inverse\n",
    "        beta = np.linalg.pinv(X1) @ y\n",
    "        self.intercept_ = float(beta[0])       # Intercept term\n",
    "        self.coef_ = np.array([float(beta[1])]) # Slope coefficient\n",
    "        return self\n",
    "\n",
    "    def predict(self, X):\n",
    "        # Prediction: y = intercept + coef * X\n",
    "        return self.intercept_ + self.coef_[0] * X.ravel()\n",
    "\n",
    "\n",
    "# --- 3. Error Metric ---\n",
    "def mae(y_true, y_pred):\n",
    "    \"\"\"Mean Absolute Error (MAE) between true and predicted values.\"\"\"\n",
    "    return float(np.mean(np.abs(y_true - y_pred)))\n",
    "\n",
    "\n",
    "# --- 4. Bootstrap for Uncertainty ---\n",
    "def bootstrap_metric(y_true, y_pred, fn, n_boot=500, seed=111, alpha=0.05):\n",
    "    \"\"\"\n",
    "    Bootstrap confidence intervals for any metric function.\n",
    "    \n",
    "    y_true: true values\n",
    "    y_pred: model predictions\n",
    "    fn: metric function (e.g., MAE)\n",
    "    n_boot: number of bootstrap samples\n",
    "    alpha: confidence level (e.g., 0.05 → 95% CI)\n",
    "    \"\"\"\n",
    "    rng = np.random.default_rng(seed)\n",
    "    idx = np.arange(len(y_true))\n",
    "    stats = []\n",
    "\n",
    "    for _ in range(n_boot):\n",
    "        # Sample with replacement\n",
    "        b = rng.choice(idx, size=len(idx), replace=True)\n",
    "        stats.append(fn(y_true[b], y_pred[b]))\n",
    "\n",
    "    # CI bounds\n",
    "    lo, hi = np.percentile(stats, [100*alpha/2, 100*(1-alpha/2)])\n",
    "    return {'mean': float(np.mean(stats)), 'lo': float(lo), 'hi': float(hi)}\n",
    "\n",
    "\n",
    "# --- 5. Wrappers for training & prediction ---\n",
    "def fit_fn(X, y):\n",
    "    \"\"\"Fit SimpleLinReg on (X, y).\"\"\"\n",
    "    return SimpleLinReg().fit(X, y)\n",
    "\n",
    "def pred_fn(model, X):\n",
    "    \"\"\"Get predictions from model.\"\"\"\n",
    "    return model.predict(X)\n"
   ]
  },
  {
   "cell_type": "code",
   "execution_count": 104,
   "id": "b1d22e97-ff0d-4637-ba6e-d79b838ab8b4",
   "metadata": {},
   "outputs": [
    {
     "name": "stdout",
     "output_type": "stream",
     "text": [
      "src.evaluation\n",
      "False\n"
     ]
    },
    {
     "data": {
      "text/plain": [
       "'WHY CANNOT FIND fit'"
      ]
     },
     "execution_count": 104,
     "metadata": {},
     "output_type": "execute_result"
    }
   ],
   "source": [
    "from src.evaluation import SimpleLinReg\n",
    "print(SimpleLinReg.__module__)\n",
    "print(hasattr(SimpleLinReg, \"fit\"))  #check if fit exist\n",
    "\n",
    "\"WHY CANNOT FIND fit\""
   ]
  },
  {
   "cell_type": "code",
   "execution_count": 101,
   "id": "584e06db-ba4f-4456-a3ee-e4e069f9dcfe",
   "metadata": {},
   "outputs": [
    {
     "ename": "AttributeError",
     "evalue": "'SimpleLinReg' object has no attribute 'fit'",
     "output_type": "error",
     "traceback": [
      "\u001b[31m---------------------------------------------------------------------------\u001b[39m",
      "\u001b[31mAttributeError\u001b[39m                            Traceback (most recent call last)",
      "\u001b[36mCell\u001b[39m\u001b[36m \u001b[39m\u001b[32mIn[101]\u001b[39m\u001b[32m, line 5\u001b[39m\n\u001b[32m      2\u001b[39m \u001b[38;5;28;01mfrom\u001b[39;00m\u001b[38;5;250m \u001b[39m\u001b[34;01msrc\u001b[39;00m\u001b[34;01m.\u001b[39;00m\u001b[34;01mevaluation\u001b[39;00m\u001b[38;5;250m \u001b[39m\u001b[38;5;28;01mimport\u001b[39;00m mean_impute, median_impute, fit_fn, pred_fn, mae, bootstrap_metric, SimpleLinReg\n\u001b[32m      4\u001b[39m _base = mean_impute(df[\u001b[33m'\u001b[39m\u001b[33mx_feature\u001b[39m\u001b[33m'\u001b[39m].values)\n\u001b[32m----> \u001b[39m\u001b[32m5\u001b[39m model = \u001b[43mfit_fn\u001b[49m\u001b[43m(\u001b[49m\u001b[43mX_base\u001b[49m\u001b[43m.\u001b[49m\u001b[43mreshape\u001b[49m\u001b[43m(\u001b[49m\u001b[43m-\u001b[49m\u001b[32;43m1\u001b[39;49m\u001b[43m,\u001b[49m\u001b[32;43m1\u001b[39;49m\u001b[43m)\u001b[49m\u001b[43m,\u001b[49m\u001b[43m \u001b[49m\u001b[43mdf\u001b[49m\u001b[43m[\u001b[49m\u001b[33;43m'\u001b[39;49m\u001b[33;43my_target\u001b[39;49m\u001b[33;43m'\u001b[39;49m\u001b[43m]\u001b[49m\u001b[43m.\u001b[49m\u001b[43mvalues\u001b[49m\u001b[43m)\u001b[49m\n\u001b[32m      6\u001b[39m y_hat = pred_fn(model, X_base.reshape(-\u001b[32m1\u001b[39m,\u001b[32m1\u001b[39m))\n\u001b[32m      7\u001b[39m \u001b[38;5;28mprint\u001b[39m(mae(df[\u001b[33m'\u001b[39m\u001b[33my_target\u001b[39m\u001b[33m'\u001b[39m].values, y_hat))\n",
      "\u001b[36mFile \u001b[39m\u001b[32m~/bootcamp_Ruilin_Yang/homework/stage11/src/evaluation.py:70\u001b[39m, in \u001b[36mfit_fn\u001b[39m\u001b[34m(X, y)\u001b[39m\n\u001b[32m     68\u001b[39m \u001b[38;5;28;01mdef\u001b[39;00m\u001b[38;5;250m \u001b[39m\u001b[34mfit_fn\u001b[39m(X, y):\n\u001b[32m     69\u001b[39m \u001b[38;5;250m    \u001b[39m\u001b[33;03m\"\"\"Fit SimpleLinReg on (X, y).\"\"\"\u001b[39;00m\n\u001b[32m---> \u001b[39m\u001b[32m70\u001b[39m     \u001b[38;5;28;01mreturn\u001b[39;00m \u001b[43mSimpleLinReg\u001b[49m\u001b[43m(\u001b[49m\u001b[43m)\u001b[49m\u001b[43m.\u001b[49m\u001b[43mfit\u001b[49m(X, y)\n",
      "\u001b[31mAttributeError\u001b[39m: 'SimpleLinReg' object has no attribute 'fit'"
     ]
    }
   ],
   "source": [
    "from src.evaluation import fit_fn\n",
    "from src.evaluation import mean_impute, median_impute, fit_fn, pred_fn, mae, bootstrap_metric, SimpleLinReg\n",
    "\n",
    "_base = mean_impute(df['x_feature'].values)\n",
    "model = fit_fn(X_base.reshape(-1,1), df['y_target'].values)\n",
    "y_hat = pred_fn(model, X_base.reshape(-1,1))\n",
    "print(mae(df['y_target'].values, y_hat))\n",
    "\n",
    "\n",
    "X_raw = df['x_feature'].values      # Get raw feature values (may have NaNs)\n",
    "y = df['y_target'].values           # Get target values\n",
    "X_base = mean_impute(X_raw)         # Impute missing values with mean\n",
    "model = fit_fn(X_base.reshape(-1,1), y)  # Fit SimpleLinReg on 2D input (n x 1)\n",
    "y_hat = model.predict(X_base.reshape(-1,1)) # Predict on the same data\n",
    "df['x_imputed'] = X_base            # Save imputed feature into dataframe\n",
    "base_mae = mae(y, y_hat)            # Compute mean absolute error\n",
    "base_mae                           # Print or return MAE"
   ]
  },
  {
   "cell_type": "code",
   "execution_count": 100,
   "id": "5d5f0994-31ff-43a0-b5d8-2816b164d628",
   "metadata": {},
   "outputs": [
    {
     "ename": "NameError",
     "evalue": "name 'y_hat' is not defined",
     "output_type": "error",
     "traceback": [
      "\u001b[31m---------------------------------------------------------------------------\u001b[39m",
      "\u001b[31mNameError\u001b[39m                                 Traceback (most recent call last)",
      "\u001b[36mCell\u001b[39m\u001b[36m \u001b[39m\u001b[32mIn[100]\u001b[39m\u001b[32m, line 2\u001b[39m\n\u001b[32m      1\u001b[39m \u001b[38;5;66;03m# --- 1. Prepare data and model prediction ---\u001b[39;00m\n\u001b[32m----> \u001b[39m\u001b[32m2\u001b[39m resid = y - \u001b[43my_hat\u001b[49m                 \u001b[38;5;66;03m# residuals = actual - predicted\u001b[39;00m\n\u001b[32m      3\u001b[39m sigma_hat = np.std(resid, ddof=\u001b[32m1\u001b[39m) \u001b[38;5;66;03m# standard deviation of residuals\u001b[39;00m\n\u001b[32m      4\u001b[39m n = \u001b[38;5;28mlen\u001b[39m(y)\n",
      "\u001b[31mNameError\u001b[39m: name 'y_hat' is not defined"
     ]
    }
   ],
   "source": [
    "# --- 1. Prepare data and model prediction ---\n",
    "resid = y - y_hat                 # residuals = actual - predicted\n",
    "sigma_hat = np.std(resid, ddof=1) # standard deviation of residuals\n",
    "n = len(y)\n",
    "se_mean = sigma_hat / np.sqrt(n)  # standard error of mean prediction\n",
    "\n",
    "# Make a smooth x-grid and predict values\n",
    "x_grid = np.linspace(np.nanmin(X_base), np.nanmax(X_base), 100).reshape(-1,1)\n",
    "pred_line = model.predict(x_grid)\n",
    "\n",
    "# Parametric 95% confidence interval: prediction ± 1.96*SE\n",
    "gauss_lo = pred_line - 1.96 * se_mean\n",
    "gauss_hi = pred_line + 1.96 * se_mean\n",
    "\n",
    "\n",
    "# --- 2. Bootstrap confidence interval ---\n",
    "def bootstrap_predictions(X, y, x_grid, n_boot=500, seed=111):\n",
    "    rng = np.random.default_rng(seed)\n",
    "    preds = []\n",
    "    n = len(y)\n",
    "\n",
    "    for _ in range(n_boot):\n",
    "        # Sample with replacement\n",
    "        sample_idx = rng.choice(n, size=n, replace=True)\n",
    "        # Fit model on the sampled data\n",
    "        m = fit_fn(X[sample_idx].reshape(-1,1), y[sample_idx])\n",
    "        # Store predictions on grid\n",
    "        preds.append(m.predict(x_grid))\n",
    "\n",
    "    preds = np.vstack(preds)\n",
    "    # Return mean prediction and 95% interval\n",
    "    return preds.mean(axis=0), np.percentile(preds, 2.5, axis=0), np.percentile(preds, 97.5, axis=0)\n",
    "\n",
    "# Run bootstrap\n",
    "m_boot, lo_boot, hi_boot = bootstrap_predictions(X_base, y, x_grid, n_boot=300)\n",
    "\n",
    "\n",
    "# --- 3. Plot everything ---\n",
    "plt.figure(figsize=(6,4)) \n",
    "plt.scatter(X_base, y, alpha=0.3, label=\"Data\") #Creaste a scatter plot\n",
    "plt.plot(x_grid, pred_line, 'r', label=\"Prediction\")\n",
    "plt.fill_between(x_grid.ravel(), gauss_lo, gauss_hi, alpha=0.2, label=\"Gaussian CI\")\n",
    "plt.fill_between(x_grid.ravel(), lo_boot, hi_boot, alpha=0.2, label=\"Bootstrap CI\")\n",
    "plt.legend()\n",
    "plt.title(\"Parametric vs Bootstrap Confidence Intervals\")\n",
    "plt.show()"
   ]
  },
  {
   "cell_type": "code",
   "execution_count": null,
   "id": "69059de3-9913-4b69-843a-cbfca68193be",
   "metadata": {},
   "outputs": [],
   "source": []
  },
  {
   "cell_type": "code",
   "execution_count": null,
   "id": "bea1d379-0b2e-4093-879e-df993747b740",
   "metadata": {},
   "outputs": [],
   "source": []
  }
 ],
 "metadata": {
  "kernelspec": {
   "display_name": "Python 3 (ipykernel)",
   "language": "python",
   "name": "python3"
  },
  "language_info": {
   "codemirror_mode": {
    "name": "ipython",
    "version": 3
   },
   "file_extension": ".py",
   "mimetype": "text/x-python",
   "name": "python",
   "nbconvert_exporter": "python",
   "pygments_lexer": "ipython3",
   "version": "3.13.5"
  }
 },
 "nbformat": 4,
 "nbformat_minor": 5
}
