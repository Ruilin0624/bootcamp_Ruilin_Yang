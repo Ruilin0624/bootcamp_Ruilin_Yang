{
 "cells": [
  {
   "cell_type": "markdown",
   "id": "7822b480-750f-48de-ad4a-b4b9f6a360fa",
   "metadata": {},
   "source": [
    "## Modeling: Time Series & Classification —\n",
    "1. Lag/rolling features add past information; ensure no future leakage\n",
    "2. Time-aware split keeps last 25% as test for realistic evaluation\n",
    "3. Logistic regression baseline predicts next-step direction\n",
    "4. Check metrics: High accuracy + balanced precision/recall = useful model\n",
    "5. If metrics low, assumptions (linearity, stationarity) may break\n"
   ]
  },
  {
   "cell_type": "code",
   "execution_count": 3,
   "id": "cedd8633-e15d-4c6f-b244-01b53eadf235",
   "metadata": {},
   "outputs": [],
   "source": [
    "import numpy as np\n",
    "import pandas as pd\n",
    "import matplotlib.pyplot as plt\n",
    "from sklearn.model_selection import train_test_split\n",
    "from sklearn.preprocessing import StandardScaler\n",
    "from sklearn.linear_model import LogisticRegression\n",
    "from sklearn.pipeline import Pipeline\n",
    "from sklearn.metrics import accuracy_score, precision_score, recall_score, f1_score, confusion_matrix, ConfusionMatrixDisplay\n"
   ]
  },
  {
   "cell_type": "code",
   "execution_count": 9,
   "id": "f4ff6b64-a888-4ef1-a3f6-95e2749ec514",
   "metadata": {},
   "outputs": [
    {
     "name": "stdout",
     "output_type": "stream",
     "text": [
      "                lag1      lag2  roll_mean3  roll_std3\n",
      "date                                                 \n",
      "2024-01-05  0.006477 -0.001383    0.003354   0.004171\n",
      "2024-01-08  0.015230  0.006477    0.006775   0.008310\n",
      "2024-01-09 -0.002342  0.015230    0.006455   0.008786\n",
      "2024-01-10 -0.002341 -0.002342    0.003516   0.010145\n",
      "2024-01-11  0.015792 -0.002341    0.003703   0.010469\n",
      "...              ...       ...         ...        ...\n",
      "2025-02-18  0.003570  0.008496    0.002058   0.007313\n",
      "2025-02-19 -0.006929  0.003570    0.001712   0.007879\n",
      "2025-02-20  0.008996 -0.006929    0.001879   0.008096\n",
      "2025-02-21  0.003073  0.008996    0.001713   0.008049\n",
      "2025-02-24  0.008129  0.003073    0.006733   0.003199\n",
      "\n",
      "[297 rows x 4 columns] date\n",
      "2024-01-05    0\n",
      "2024-01-08    0\n",
      "2024-01-09    1\n",
      "2024-01-10    1\n",
      "2024-01-11    0\n",
      "             ..\n",
      "2025-02-18    1\n",
      "2025-02-19    1\n",
      "2025-02-20    1\n",
      "2025-02-21    1\n",
      "2025-02-24    0\n",
      "Name: y_up, Length: 297, dtype: int64\n",
      "Accuracy: 0.520\n",
      "Precision: 0.525\n",
      "Recall: 0.553\n",
      "F1: 0.538\n"
     ]
    }
   ],
   "source": [
    "# 1. Generate synthetic time series\n",
    "n = 300\n",
    "np.random.seed(42)\n",
    "dates = pd.bdate_range(start='2024-01-02', periods=n)\n",
    "ret = np.random.normal(0, 0.01, size=n)\n",
    "df = pd.DataFrame({'date': dates, 'ret': ret}).set_index('date')\n",
    "\n",
    "# 2. Feature Engineering\n",
    "# Create lag and rolling features\n",
    "df['lag1'] = df['ret'].shift(1)\n",
    "df['lag2'] = df['ret'].shift(2)\n",
    "df['roll_mean3'] = df['ret'].shift(1).rolling(window=3).mean()\n",
    "df['roll_std3'] = df['ret'].shift(1).rolling(window=3).std()\n",
    "\n",
    "# Drop NaN rows created by lag/rolling\n",
    "df = df.dropna()\n",
    "\n",
    "\n",
    "\n",
    "\n",
    "# 3. Create classification target (up/down) \n",
    "df['y_up'] = (df['ret'].shift(-1) > 0).astype(int)\n",
    "df = df.dropna()\n",
    "\n",
    "X = df[['lag1','lag2','roll_mean3','roll_std3']]\n",
    "y = df['y_up']\n",
    "print(X,y)"
   ]
  },
  {
   "cell_type": "code",
   "execution_count": 10,
   "id": "fec38cd8-3466-40b6-988a-301aa9e0591c",
   "metadata": {},
   "outputs": [
    {
     "name": "stdout",
     "output_type": "stream",
     "text": [
      "Accuracy: 0.520\n",
      "Precision: 0.525\n",
      "Recall: 0.553\n",
      "F1: 0.538\n"
     ]
    }
   ],
   "source": [
    "# 4: Time-aware Split (last 25% test) \n",
    "split_idx = int(len(df)*0.75)\n",
    "X_train, X_test = X.iloc[:split_idx], X.iloc[split_idx:]\n",
    "y_train, y_test = y.iloc[:split_idx], y.iloc[split_idx:]\n",
    "\n",
    "# 5: Build pipeline\n",
    "pipeline = Pipeline([\n",
    "    ('scaler', StandardScaler()),\n",
    "    ('clf', LogisticRegression()) ])\n",
    "\n",
    "# Fit model\n",
    "pipeline.fit(X_train, y_train)\n",
    "\n",
    "# Predict\n",
    "y_pred = pipeline.predict(X_test)\n",
    "\n",
    "# 6: Evaluation ---\n",
    "acc = accuracy_score(y_test, y_pred)\n",
    "prec = precision_score(y_test, y_pred)\n",
    "rec = recall_score(y_test, y_pred)\n",
    "f1 = f1_score(y_test, y_pred)\n",
    "\n",
    "print(f\"Accuracy: {acc:.3f}\")\n",
    "print(f\"Precision: {prec:.3f}\")\n",
    "print(f\"Recall: {rec:.3f}\")\n",
    "print(f\"F1: {f1:.3f}\")"
   ]
  },
  {
   "cell_type": "code",
   "execution_count": 7,
   "id": "686fe1a7-e6a9-41d8-839f-7612bdd8355a",
   "metadata": {},
   "outputs": [
    {
     "data": {
      "image/png": "[encoded data removed]",
      "text/plain": [
       "<Figure size 640x480 with 2 Axes>"
      ]
     },
     "metadata": {},
     "output_type": "display_data"
    }
   ],
   "source": [
    "# Confusion matrix\n",
    "cm = confusion_matrix(y_test, y_pred)\n",
    "disp = ConfusionMatrixDisplay(confusion_matrix=cm)\n",
    "\n",
    "disp.plot()\n",
    "plt.title(\"Confusion Matrix\")\n",
    "plt.show()"
   ]
  },
  {
   "cell_type": "code",
   "execution_count": null,
   "id": "ed93a386-5cd1-4cf2-a160-64d4b8e5cac5",
   "metadata": {},
   "outputs": [],
   "source": []
  }
 ],
 "metadata": {
  "kernelspec": {
   "display_name": "Python 3 (ipykernel)",
   "language": "python",
   "name": "python3"
  },
  "language_info": {
   "codemirror_mode": {
    "name": "ipython",
    "version": 3
   },
   "file_extension": ".py",
   "mimetype": "text/x-python",
   "name": "python",
   "nbconvert_exporter": "python",
   "pygments_lexer": "ipython3",
   "version": "3.10.18"
  }
 },
 "nbformat": 4,
 "nbformat_minor": 5
}
