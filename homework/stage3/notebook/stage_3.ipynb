{
 "cells": [
  {
   "cell_type": "raw",
   "id": "d38bf14f-e20e-421d-9c27-d574860ba698",
   "metadata": {},
   "source": [
    "Numpy Operation\n",
    "Create an array and perform elementwise operations.\n",
    "Compare loop vs vectorized execution. "
   ]
  },
  {
   "cell_type": "code",
   "execution_count": 30,
   "id": "ae8d4b74-92cc-4fb1-b591-5bf30069808e",
   "metadata": {},
   "outputs": [
    {
     "name": "stdout",
     "output_type": "stream",
     "text": [
      "[ 0  0  1  1  2  2  3  3  4  4  5  5  6  6  7  7  8  8  9  9 10 10 11 11\n",
      " 12 12 13 13 14 14 15 15 16 16 17 17 18 18 19 19 20 20 21 21 22 22 23 23\n",
      " 24 24 25 25 26 26 27 27 28 28 29 29 30 30 31 31 32 32 33 33 34 34 35 35\n",
      " 36 36 37 37 38 38 39 39 40 40 41 41 42 42 43 43 44 44 45 45 46 46 47 47\n",
      " 48 48 49 49]\n",
      "[0.0, 0.0, 1.0, 1.0, 2.0, 2.0, 3.0, 3.0, 4.0, 4.0, 5.0, 5.0, 6.0, 6.0, 7.0, 7.0, 8.0, 8.0, 9.0, 9.0, 10.0, 10.0, 11.0, 11.0, 12.0, 12.0, 13.0, 13.0, 14.0, 14.0, 15.0, 15.0, 16.0, 16.0, 17.0, 17.0, 18.0, 18.0, 19.0, 19.0, 20.0, 20.0, 21.0, 21.0, 22.0, 22.0, 23.0, 23.0, 24.0, 24.0, 25.0, 25.0, 26.0, 26.0, 27.0, 27.0, 28.0, 28.0, 29.0, 29.0, 30.0, 30.0, 31.0, 31.0, 32.0, 32.0, 33.0, 33.0, 34.0, 34.0, 35.0, 35.0, 36.0, 36.0, 37.0, 37.0, 38.0, 38.0, 39.0, 39.0, 40.0, 40.0, 41.0, 41.0, 42.0, 42.0, 43.0, 43.0, 44.0, 44.0, 45.0, 45.0, 46.0, 46.0, 47.0, 47.0, 48.0, 48.0, 49.0, 49.0]\n"
     ]
    }
   ],
   "source": [
    "#Numpy Operation\n",
    "\n",
    "import numpy as np\n",
    "\n",
    "#Create Array\n",
    "arr = np.arange(100)\n",
    "\n",
    "# Elementwise operation (vectorized)\n",
    "vec_arr = arr //2\n",
    "print(vec_arr)\n",
    "\n",
    "# Elementwise operation (loop)\n",
    "loop_arr = [float(x//2) for x in arr]\n",
    "print(loop_arr)\n",
    "\n",
    "#iteration over a 0-d array = np.array(1000)"
   ]
  },
  {
   "cell_type": "raw",
   "id": "11d09151-ac22-43fb-acba-42899f3115fc",
   "metadata": {},
   "source": [
    "Dataset Loading\n",
    "Load provided CSV (data/starter_data.csv) using pandas.\n",
    "Inspect with .info() and .head()."
   ]
  },
  {
   "cell_type": "code",
   "execution_count": 17,
   "id": "2d8c32c1-fee1-41ea-a05c-28f87b633797",
   "metadata": {},
   "outputs": [
    {
     "name": "stdout",
     "output_type": "stream",
     "text": [
      "<class 'pandas.core.frame.DataFrame'>\n",
      "RangeIndex: 3 entries, 0 to 2\n",
      "Data columns (total 3 columns):\n",
      " #   Column      Non-Null Count  Dtype  \n",
      "---  ------      --------------  -----  \n",
      " 0   Unnamed: 0  3 non-null      int64  \n",
      " 1   category    3 non-null      object \n",
      " 2   value       3 non-null      float64\n",
      "dtypes: float64(1), int64(1), object(1)\n",
      "memory usage: 204.0+ bytes\n",
      "None\n",
      "   Unnamed: 0 category      value\n",
      "0           0        A  11.500000\n",
      "1           1        B  15.666667\n",
      "2           2        C  27.666667\n"
     ]
    }
   ],
   "source": [
    "# Dataset Loading\n",
    "import pandas as pd\n",
    "\n",
    "# Load CSV\n",
    "df = pd.read_csv(\"starter_data.csv\")\n",
    "\n",
    "# Inspect dataset\n",
    "print(df.info())\n",
    "print(df.head())"
   ]
  },
  {
   "cell_type": "raw",
   "id": "0d0df65d-bd0a-4024-a7b4-0a6402795d22",
   "metadata": {},
   "source": [
    "Summary Statistics\n",
    "Calculate .describe() for numeric columns.\n",
    "Perform .groupby() aggregation by category."
   ]
  },
  {
   "cell_type": "code",
   "execution_count": 23,
   "id": "acaeb5a7-8a23-4df5-aa43-79a1dd45f1d2",
   "metadata": {},
   "outputs": [
    {
     "name": "stdout",
     "output_type": "stream",
     "text": [
      "           value\n",
      "count  10.000000\n",
      "mean   17.600000\n",
      "std     7.381659\n",
      "min    10.000000\n",
      "25%    12.250000\n",
      "50%    14.500000\n",
      "75%    23.250000\n",
      "max    30.000000\n",
      "          value\n",
      "category       \n",
      "A            13\n",
      "B            18\n",
      "C            30\n"
     ]
    }
   ],
   "source": [
    "# Summary Statistics\n",
    "import pandas as pd\n",
    "\n",
    "# Load CSV\n",
    "df = pd.read_csv(\"starter_data.csv\")\n",
    "\n",
    "# Describe numeric columns - summary statistics for numeric columns by default\n",
    "summary = df.describe()\n",
    "print(summary)\n",
    "\n",
    "# Group by a category \n",
    "grouped_summary = df.groupby('category').max(numeric_only=True)\n",
    "print(grouped_summary)\n",
    "\n",
    "#max = return max vaule"
   ]
  },
  {
   "cell_type": "code",
   "execution_count": 24,
   "id": "4005995e-bfb3-4a98-90fd-07435388338c",
   "metadata": {},
   "outputs": [
    {
     "data": {
      "text/html": [
       "<div>\n",
       "<style scoped>\n",
       "    .dataframe tbody tr th:only-of-type {\n",
       "        vertical-align: middle;\n",
       "    }\n",
       "\n",
       "    .dataframe tbody tr th {\n",
       "        vertical-align: top;\n",
       "    }\n",
       "\n",
       "    .dataframe thead th {\n",
       "        text-align: right;\n",
       "    }\n",
       "</style>\n",
       "<table border=\"1\" class=\"dataframe\">\n",
       "  <thead>\n",
       "    <tr style=\"text-align: right;\">\n",
       "      <th></th>\n",
       "      <th>category</th>\n",
       "      <th>value</th>\n",
       "    </tr>\n",
       "  </thead>\n",
       "  <tbody>\n",
       "    <tr>\n",
       "      <th>0</th>\n",
       "      <td>A</td>\n",
       "      <td>11.500000</td>\n",
       "    </tr>\n",
       "    <tr>\n",
       "      <th>1</th>\n",
       "      <td>B</td>\n",
       "      <td>15.666667</td>\n",
       "    </tr>\n",
       "    <tr>\n",
       "      <th>2</th>\n",
       "      <td>C</td>\n",
       "      <td>27.666667</td>\n",
       "    </tr>\n",
       "  </tbody>\n",
       "</table>\n",
       "</div>"
      ],
      "text/plain": [
       "  category      value\n",
       "0        A  11.500000\n",
       "1        B  15.666667\n",
       "2        C  27.666667"
      ]
     },
     "execution_count": 24,
     "metadata": {},
     "output_type": "execute_result"
    }
   ],
   "source": [
    "summary = df.groupby('category').mean(numeric_only=True).reset_index()\n",
    "summary\n",
    "\n",
    "#groupby category  = groups by A,B,C\n",
    "# .mean(numeric_only = True) = only numeric columns are included, others ignored\n",
    "# .reset_index() = Turns the grouped index 'category' back into a column."
   ]
  },
  {
   "cell_type": "raw",
   "id": "67e38b59-4153-418f-a742-31fffbb0f0ca",
   "metadata": {},
   "source": [
    "Save Outputs\n",
    "Save summary stats to data/processed/summary.csv or .json.\n",
    "Bonus: Create and save a basic plot."
   ]
  },
  {
   "cell_type": "code",
   "execution_count": 19,
   "id": "5ea71881-d6e7-4448-9499-7b8b12115028",
   "metadata": {},
   "outputs": [],
   "source": [
    "# Save summary to CSV or JSON\n",
    "summary.to_csv(\"starter_data_summary.csv\")\n",
    "summary.to_json(\"starter_data_summary.json\")\n",
    "\n",
    "#.to_csv = Saves the summary to a CSV file\n",
    "# ,index=False = avoids writing the old index to CSV"
   ]
  },
  {
   "cell_type": "code",
   "execution_count": 43,
   "id": "61bd17d0-bfd4-4905-b9d9-e8ab1ff408ce",
   "metadata": {
    "scrolled": true
   },
   "outputs": [
    {
     "data": {
      "image/png": "[encoded data removed]",
      "text/plain": [
       "<Figure size 640x480 with 1 Axes>"
      ]
     },
     "metadata": {},
     "output_type": "display_data"
    }
   ],
   "source": [
    "# Bonus: Basic plot\n",
    "import matplotlib.pyplot as plt\n",
    "import pandas as pd\n",
    "\n",
    "df = pd.read_csv(\"starter_data.csv\")\n",
    "\n",
    "plt.bar(df['date'], df['value'],) # bar chart\n",
    "#plt.hist(df['date'], df['value'],bins=9, color='lightblue', edgecolor='skyblue') # histogram\n",
    "#plt.plot(df['date'], df['value'],, marker='o', linestyle='-', color='blue', label='My Data') # dot plot\n",
    "\n",
    "plt.title(\"Summary by Date\")\n",
    "plt.xticks(rotation=90)\n",
    "plt.xlabel(\"Category\")\n",
    "plt.ylabel(\"Value\")\n",
    "plt.savefig(\"Data_Summary_by_Date.png\")\n",
    "\n",
    "plt.show()"
   ]
  },
  {
   "cell_type": "raw",
   "id": "920cebf1-7cac-4bf1-b9c8-96fbb8e19e99",
   "metadata": {},
   "source": [
    "Reusable Functions\n",
    "Write at least one utility function (e.g., get_summary_stats(df)).\n",
    "Bonus: Move function to src/utils.py and import in notebook."
   ]
  }
 ],
 "metadata": {
  "kernelspec": {
   "display_name": "Python 3 (ipykernel)",
   "language": "python",
   "name": "python3"
  },
  "language_info": {
   "codemirror_mode": {
    "name": "ipython",
    "version": 3
   },
   "file_extension": ".py",
   "mimetype": "text/x-python",
   "name": "python",
   "nbconvert_exporter": "python",
   "pygments_lexer": "ipython3",
   "version": "3.10.18"
  }
 },
 "nbformat": 4,
 "nbformat_minor": 5
}
