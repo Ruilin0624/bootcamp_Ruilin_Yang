{
 "cells": [
  {
   "cell_type": "code",
   "execution_count": 25,
   "id": "3885853a-e67d-4054-8467-dc4e49728940",
   "metadata": {},
   "outputs": [
    {
     "name": "stdout",
     "output_type": "stream",
     "text": [
      "RAW -> /Users/ruilinyang/bootcamp_Ruilin_Yang/homework/homework5/data/raw\n",
      "PROC -> /Users/ruilinyang/bootcamp_Ruilin_Yang/homework/homework5/data/processed\n",
      "Saved CSV → data/raw/IBM_prices_20250820-022315.csv\n"
     ]
    },
    {
     "data": {
      "text/plain": [
       "PosixPath('data/processed/IBM_20250820-022315.parquet')"
      ]
     },
     "execution_count": 25,
     "metadata": {},
     "output_type": "execute_result"
    }
   ],
   "source": [
    "import os\n",
    "import pathlib\n",
    "import datetime as dt\n",
    "import pandas as pd\n",
    "from dotenv import load_dotenv\n",
    "import numpy as np\n",
    "\n",
    "# Load environment variables\n",
    "load_dotenv()\n",
    "DATA_DIR_RAW = pathlib.Path(os.getenv('DATA_DIR_RAW', 'data/raw'))\n",
    "DATA_DIR_PROCESSED = pathlib.Path(os.getenv('DATA_DIR_PROCESSED', 'data/processed'))\n",
    "\n",
    "import numpy as np\n",
    "dates = pd.date_range('2025-08-01', periods=20, freq='D')\n",
    "SYMBOL = 'IBM'\n",
    "df = pd.DataFrame({'date': dates, 'ticker': [SYMBOL]*20, 'price': 150 + np.random.randn(20).cumsum()})\n",
    "df.head()\n",
    "\n",
    "# Ensure directories exist\n",
    "DATA_DIR_RAW.mkdir(parents=True, exist_ok=True)\n",
    "DATA_DIR_PROCESSED.mkdir(parents=True, exist_ok=True)\n",
    "\n",
    "#shows dictionary final location\n",
    "print('RAW ->', DATA_DIR_RAW.resolve())\n",
    "print('PROC ->', DATA_DIR_PROCESSED.resolve())\n",
    "#.resolve() converts it into an absolute path\n",
    "\n",
    "# Save CSV - raw data, human-readable\n",
    "def ts(): return dt.datetime.now().strftime('%Y%m%d-%H%M%S')\n",
    "    #define ts() used for later\n",
    "    #{} - replace variabled for title\n",
    "    \n",
    "csv_path = DATA_DIR_RAW / f\"{SYMBOL}_prices_{ts()}.csv\"\n",
    "df.to_csv(csv_path, index=False)\n",
    "print(\"Saved CSV →\", csv_path)\n",
    "\n",
    "# Save Parquet - processed data, efficient for analysis\n",
    "parquet_path = DATA_DIR_PROCESSED / f\"{SYMBOL}_{ts()}.parquet\"\n",
    "try:\n",
    "    df.to_parquet(parquet_path)\n",
    "\n",
    "except Exception as e:\n",
    "    print('Parquet engine not available. Install pyarrow or fastparquet to complete this step.')\n",
    "    parquet_path = None\n",
    "parquet_path\n",
    "\n",
    "\n"
   ]
  },
  {
   "cell_type": "code",
   "execution_count": 12,
   "id": "b05dcfde-47e1-4685-ac93-c93b5fc3602d",
   "metadata": {
    "collapsed": true,
    "jupyter": {
     "outputs_hidden": true
    },
    "scrolled": true
   },
   "outputs": [
    {
     "data": {
      "text/html": [
       "<div>\n",
       "<style scoped>\n",
       "    .dataframe tbody tr th:only-of-type {\n",
       "        vertical-align: middle;\n",
       "    }\n",
       "\n",
       "    .dataframe tbody tr th {\n",
       "        vertical-align: top;\n",
       "    }\n",
       "\n",
       "    .dataframe thead th {\n",
       "        text-align: right;\n",
       "    }\n",
       "</style>\n",
       "<table border=\"1\" class=\"dataframe\">\n",
       "  <thead>\n",
       "    <tr style=\"text-align: right;\">\n",
       "      <th></th>\n",
       "      <th>date</th>\n",
       "      <th>ticker</th>\n",
       "      <th>price</th>\n",
       "    </tr>\n",
       "  </thead>\n",
       "  <tbody>\n",
       "    <tr>\n",
       "      <th>0</th>\n",
       "      <td>2025-08-01</td>\n",
       "      <td>IBM</td>\n",
       "      <td>148.484357</td>\n",
       "    </tr>\n",
       "    <tr>\n",
       "      <th>1</th>\n",
       "      <td>2025-08-02</td>\n",
       "      <td>IBM</td>\n",
       "      <td>148.728099</td>\n",
       "    </tr>\n",
       "    <tr>\n",
       "      <th>2</th>\n",
       "      <td>2025-08-03</td>\n",
       "      <td>IBM</td>\n",
       "      <td>146.764657</td>\n",
       "    </tr>\n",
       "    <tr>\n",
       "      <th>3</th>\n",
       "      <td>2025-08-04</td>\n",
       "      <td>IBM</td>\n",
       "      <td>145.804682</td>\n",
       "    </tr>\n",
       "    <tr>\n",
       "      <th>4</th>\n",
       "      <td>2025-08-05</td>\n",
       "      <td>IBM</td>\n",
       "      <td>144.991451</td>\n",
       "    </tr>\n",
       "  </tbody>\n",
       "</table>\n",
       "</div>"
      ],
      "text/plain": [
       "        date ticker       price\n",
       "0 2025-08-01    IBM  148.484357\n",
       "1 2025-08-02    IBM  148.728099\n",
       "2 2025-08-03    IBM  146.764657\n",
       "3 2025-08-04    IBM  145.804682\n",
       "4 2025-08-05    IBM  144.991451"
      ]
     },
     "execution_count": 12,
     "metadata": {},
     "output_type": "execute_result"
    }
   ],
   "source": [
    "\n",
    "import numpy as np\n",
    "dates = pd.date_range('2025-08-01', periods=20, freq='D')\n",
    "df = pd.DataFrame({'date': dates, 'ticker': ['IBM']*20, 'price': 150 + np.random.randn(20).cumsum()})\n",
    "df.head()"
   ]
  },
  {
   "cell_type": "code",
   "execution_count": 27,
   "id": "f3eaa17d-04fc-4749-8259-585d30edda53",
   "metadata": {},
   "outputs": [
    {
     "name": "stdout",
     "output_type": "stream",
     "text": [
      "          date ticker       price\n",
      "0   2025-08-01    IBM  150.165577\n",
      "1   2025-08-02    IBM  150.991416\n",
      "2   2025-08-03    IBM  151.148234\n",
      "3   2025-08-04    IBM  150.933132\n",
      "4   2025-08-05    IBM  149.069298\n",
      "5   2025-08-06    IBM  148.839510\n",
      "6   2025-08-07    IBM  147.459090\n",
      "7   2025-08-08    IBM  146.459796\n",
      "8   2025-08-09    IBM  145.925675\n",
      "9   2025-08-10    IBM  146.161167\n",
      "10  2025-08-11    IBM  145.982384\n",
      "11  2025-08-12    IBM  145.015877\n",
      "12  2025-08-13    IBM  145.353384\n",
      "13  2025-08-14    IBM  144.620757\n",
      "14  2025-08-15    IBM  143.653807\n",
      "15  2025-08-16    IBM  142.246768\n",
      "16  2025-08-17    IBM  143.318167\n",
      "17  2025-08-18    IBM  143.104234\n",
      "18  2025-08-19    IBM  144.275554\n",
      "19  2025-08-20    IBM  143.452057\n",
      "         date ticker       price\n",
      "0  2025-08-01    IBM  150.165577\n",
      "1  2025-08-02    IBM  150.991416\n",
      "2  2025-08-03    IBM  151.148234\n",
      "3  2025-08-04    IBM  150.933132\n",
      "4  2025-08-05    IBM  149.069298\n",
      "5  2025-08-06    IBM  148.839510\n",
      "6  2025-08-07    IBM  147.459090\n",
      "7  2025-08-08    IBM  146.459796\n",
      "8  2025-08-09    IBM  145.925675\n",
      "9  2025-08-10    IBM  146.161167\n",
      "10 2025-08-11    IBM  145.982384\n",
      "11 2025-08-12    IBM  145.015877\n",
      "12 2025-08-13    IBM  145.353384\n",
      "13 2025-08-14    IBM  144.620757\n",
      "14 2025-08-15    IBM  143.653807\n",
      "15 2025-08-16    IBM  142.246768\n",
      "16 2025-08-17    IBM  143.318167\n",
      "17 2025-08-18    IBM  143.104234\n",
      "18 2025-08-19    IBM  144.275554\n",
      "19 2025-08-20    IBM  143.452057\n"
     ]
    }
   ],
   "source": [
    "# Reload files\n",
    "df_csv = pd.read_csv(csv_path)\n",
    "df_parquet = pd.read_parquet(parquet_path)\n",
    "print(df_csv)\n",
    "print(df_parquet)"
   ]
  },
  {
   "cell_type": "code",
   "execution_count": 31,
   "id": "f5e24643-6efb-4a8f-80d8-8956e62d20d9",
   "metadata": {},
   "outputs": [
    {
     "name": "stdout",
     "output_type": "stream",
     "text": [
      "date       object\n",
      "ticker     object\n",
      "price     float64\n",
      "dtype: object\n"
     ]
    }
   ],
   "source": [
    "print(df_csv.dtypes)"
   ]
  },
  {
   "cell_type": "code",
   "execution_count": 32,
   "id": "0e542a4a-059b-47d0-8112-fbab7e3a23e3",
   "metadata": {},
   "outputs": [
    {
     "name": "stdout",
     "output_type": "stream",
     "text": [
      "date      datetime64[ns]\n",
      "ticker            object\n",
      "price            float64\n",
      "dtype: object\n"
     ]
    }
   ],
   "source": [
    "print(df_parquet.dtypes)"
   ]
  },
  {
   "cell_type": "code",
   "execution_count": 24,
   "id": "8981b3b2-99f2-4b17-8fb0-6e8352d79046",
   "metadata": {},
   "outputs": [
    {
     "name": "stdout",
     "output_type": "stream",
     "text": [
      "{'shapes_match': True, 'dtypes_match': False}\n",
      "CSV validation: {'shapes_match': True, 'dtypes_match': True}\n",
      "Parquet validation: {'shapes_match': True, 'dtypes_match': True}\n"
     ]
    }
   ],
   "source": [
    "#Reloading and Validating\n",
    "\n",
    "# Reload files\n",
    "df_csv = pd.read_csv(csv_path)\n",
    "df_parquet = pd.read_parquet(parquet_path)\n",
    "\n",
    "# Validate \n",
    "def validate_df(df_csv, df_parquet, critical_columns=['date','ticker','price']):\n",
    "    #csv = paraquet\n",
    "    \n",
    "    #Compares two objects using Python's default equality operator.\n",
    "        # Equal = True\n",
    "\n",
    "    shapes_match = df_csv.shape == df_parquet.shape\n",
    "    \n",
    "    dtypes_match = all(df_csv[col].dtype == df_parquet[col].dtype for col in critical_columns)\n",
    "  \n",
    "    return {\"shapes_match\": shapes_match, \"dtypes_match\": dtypes_match} #why aren't they matching?\n",
    "\n",
    "validation_results = validate_df(df_csv, df_parquet)\n",
    "print(validation_results)\n",
    "\n",
    "#Validate \n",
    "df_csv = pd.read_csv(csv_path, parse_dates=['date'])\n",
    "print('CSV validation:', validate_df(df, df_csv))\n",
    "\n",
    "if parquet_path.exists():\n",
    "    try:\n",
    "        df_parq = pd.read_parquet(parquet_path)\n",
    "        print('Parquet validation:', validate_df(df, df_parq))\n",
    "    except Exception as e:\n",
    "        print('Parquet read failed:', e)\n",
    "else:\n",
    "    print('Parquet file does not exist.')\n"
   ]
  },
  {
   "cell_type": "code",
   "execution_count": null,
   "id": "755548a0-eda7-45cb-9ca7-105fc1065eb3",
   "metadata": {},
   "outputs": [],
   "source": []
  }
 ],
 "metadata": {
  "kernelspec": {
   "display_name": "Python 3 (ipykernel)",
   "language": "python",
   "name": "python3"
  },
  "language_info": {
   "codemirror_mode": {
    "name": "ipython",
    "version": 3
   },
   "file_extension": ".py",
   "mimetype": "text/x-python",
   "name": "python",
   "nbconvert_exporter": "python",
   "pygments_lexer": "ipython3",
   "version": "3.10.18"
  }
 },
 "nbformat": 4,
 "nbformat_minor": 5
}
