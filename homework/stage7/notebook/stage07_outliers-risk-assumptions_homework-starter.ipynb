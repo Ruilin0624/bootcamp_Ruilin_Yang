{
 "cells": [
  {
   "cell_type": "code",
   "execution_count": 28,
   "id": "2e719402-0918-4763-bb69-a3779263a38d",
   "metadata": {},
   "outputs": [
    {
     "name": "stdout",
     "output_type": "stream",
     "text": [
      "File already exists at data/raw/outliers_homework.csv. Skipping CSV creation to avoid overwrite.\n"
     ]
    }
   ],
   "source": [
    "#use data from lesson\n",
    "\n",
    "import numpy as np\n",
    "import pandas as pd\n",
    "import matplotlib.pyplot as plt\n",
    "from pathlib import Path\n",
    "from sklearn.linear_model import LinearRegression\n",
    "from sklearn.metrics import mean_absolute_error, r2_score\n",
    "np.random.seed(17)\n",
    "\n",
    "\n",
    "# Define folder paths relative to this notebook\n",
    "raw_dir = 'data/raw'\n",
    "processed_dir = 'data/processed'\n",
    "\n",
    "# Create folders if they don't exist\n",
    "os.makedirs(raw_dir, exist_ok=True)\n",
    "os.makedirs(processed_dir, exist_ok=True)\n",
    "\n",
    "# Generate business day dates\n",
    "dates = pd.date_range(start=\"2022-01-03\", end=\"2022-06-10\", freq=\"B\")\n",
    "\n",
    "# Fixed random seed for reproducibility\n",
    "np.random.seed(17)\n",
    "\n",
    "# Column 1: daily_return ~ N(0, 0.01)\n",
    "returns = np.random.normal(0, 0.01, size=len(dates))\n",
    "mask_pre_may = dates < \"2022-05-01\"\n",
    "returns[mask_pre_may] -= 0.0015  \n",
    "\n",
    "# Inject \"shock\" values\n",
    "shock_values = {\n",
    "    \"2022-05-02\": 0.1748425237194541,\n",
    "    \"2022-05-03\": -0.16825801732486943,\n",
    "    \"2022-05-06\": -0.19667220757153227,\n",
    "    \"2022-05-09\": 0.21240223590614747,\n",
    "    \"2022-05-12\": -0.178729287231294\n",
    "}\n",
    "for d, v in shock_values.items():\n",
    "    idx = np.where(dates == pd.to_datetime(d))[0][0]\n",
    "    returns[idx] = v\n",
    "\n",
    "# Column 2: daily_return_2, correlated with daily_return + small noise\n",
    "daily_return_2 = returns * 0.6 + np.random.normal(0, 0.005, size=len(dates))\n",
    "\n",
    "# Create DataFrame with two numeric columns\n",
    "df = pd.DataFrame({\n",
    "    \"date\": dates,\n",
    "    \"daily_return\": returns,\n",
    "    \"daily_return_2\": daily_return_2\n",
    "})\n",
    "\n",
    "# Save to CSV in raw data folder\n",
    "csv_path = os.path.join(raw_dir, 'outliers_homework.csv')\n",
    "if not os.path.exists(csv_path):\n",
    "    df.to_csv(csv_path, index=False)\n",
    "    print(f'Synthetic dataset with two columns created and saved to {csv_path}')\n",
    "else:\n",
    "    print(f'File already exists at {csv_path}. Skipping CSV creation to avoid overwrite.')"
   ]
  },
  {
   "cell_type": "raw",
   "id": "0f589bf4-990b-48cd-83ad-337e0a0c5ff8",
   "metadata": {
    "jupyter": {
     "source_hidden": true
    }
   },
   "source": [
    "def detect_outliers_iqr(series: pd.Series, iqr_mult: float = 1.5) -> pd.Series:\n",
    "    s = pd.to_numeric(series, errors=\"coerce\") \n",
    "    #coerce -->values cant convert to number are replaced by NaN, not considered into any future formulas\n",
    "    # s = all values shoul be numbers or NaN\n",
    "    q1 = s.quantile(0.25)\n",
    "    q3 = s.quantile(0.75)\n",
    "    iqr = q3 - q1\n",
    "    lower = q1 - iqr_mult * iqr\n",
    "    upper = q3 + iqr_mult * iqr\n",
    "    return (s < lower) | (s > upper)\n",
    "\n",
    "def detect_outliers_zscore(series: pd.Series, threshold: float = 3.0) -> pd.Series:\n",
    "    s = pd.to_numeric(series, errors=\"coerce\")\n",
    "    mu = s.mean()\n",
    "    stdev = s.std(ddof=0)\n",
    "    if stdev == 0 or np.isnan(stdev):\n",
    "        return pd.Series(False, index=s.index)\n",
    "    z = (s - mu) / stdev\n",
    "    return z.abs() > threshold\n",
    "    \n",
    "    \n",
    "def winsorize_series(series: pd.Series, lower: float = 0.05, upper: float = 0.95) -> pd.Series:\n",
    "    if not (0 <= lower < upper <= 1):\n",
    "        raise ValueError(\"Quantiles must satisfy 0 <= lower < upper <= 1\")\n",
    "        \n",
    "    s = pd.to_numeric(series, errors=\"coerce\")\n",
    "    low = s.quantile(lower)\n",
    "    high = s.quantile(upper)\n",
    "    return s.clip(lower=low, upper=high)"
   ]
  },
  {
   "cell_type": "code",
   "execution_count": 72,
   "id": "89afe62a-70b4-4809-9601-c68454f1f433",
   "metadata": {},
   "outputs": [
    {
     "name": "stdout",
     "output_type": "stream",
     "text": [
      "Data shape: (500, 2) — loaded CSV\n"
     ]
    },
    {
     "data": {
      "text/html": [
       "<div>\n",
       "<style scoped>\n",
       "    .dataframe tbody tr th:only-of-type {\n",
       "        vertical-align: middle;\n",
       "    }\n",
       "\n",
       "    .dataframe tbody tr th {\n",
       "        vertical-align: top;\n",
       "    }\n",
       "\n",
       "    .dataframe thead th {\n",
       "        text-align: right;\n",
       "    }\n",
       "</style>\n",
       "<table border=\"1\" class=\"dataframe\">\n",
       "  <thead>\n",
       "    <tr style=\"text-align: right;\">\n",
       "      <th></th>\n",
       "      <th>x</th>\n",
       "      <th>y</th>\n",
       "    </tr>\n",
       "  </thead>\n",
       "  <tbody>\n",
       "    <tr>\n",
       "      <th>0</th>\n",
       "      <td>1.101262</td>\n",
       "      <td>4.248333</td>\n",
       "    </tr>\n",
       "    <tr>\n",
       "      <th>1</th>\n",
       "      <td>0.338431</td>\n",
       "      <td>2.095149</td>\n",
       "    </tr>\n",
       "    <tr>\n",
       "      <th>2</th>\n",
       "      <td>-0.539972</td>\n",
       "      <td>-3.113905</td>\n",
       "    </tr>\n",
       "    <tr>\n",
       "      <th>3</th>\n",
       "      <td>-1.260242</td>\n",
       "      <td>-5.801234</td>\n",
       "    </tr>\n",
       "    <tr>\n",
       "      <th>4</th>\n",
       "      <td>-1.894621</td>\n",
       "      <td>-5.222242</td>\n",
       "    </tr>\n",
       "  </tbody>\n",
       "</table>\n",
       "</div>"
      ],
      "text/plain": [
       "          x         y\n",
       "0  1.101262  4.248333\n",
       "1  0.338431  2.095149\n",
       "2 -0.539972 -3.113905\n",
       "3 -1.260242 -5.801234\n",
       "4 -1.894621 -5.222242"
      ]
     },
     "execution_count": 72,
     "metadata": {},
     "output_type": "execute_result"
    }
   ],
   "source": [
    "#DATA_PATH = Path('data/raw/outliers_homework.csv')\n",
    "DATA_PATH = Path(\"data/raw/coco.csv\")\n",
    "\n",
    "RNG = np.random.default_rng(seed=17)\n",
    "#seed=17 --> ensure same value will be created when running the code\n",
    "#its like a locker that stores these values\n",
    "\n",
    "def make_synthetic(n=500, outlier_frac=0.05, noise_std=1.0, rng=RNG):\n",
    "    #make_synthetic(number of value, edge_outlier, within this stdev, \n",
    "    \n",
    "    x = rng.normal(0.0,noise_std , n) #normal distribution\n",
    "    \n",
    "    y = 3.0 * x + rng.normal(0, noise_std, n)\n",
    "    \n",
    "    k = int(n * outlier_frac)\n",
    "    \n",
    "    if k > 0:\n",
    "        idx = rng.choice(n, size=k, replace=False)\n",
    "        # randomly selects some value (0 to n) not inclusive \n",
    "\n",
    "        #replace these values\n",
    "        x[idx] = x[idx] * rng.integers(6, 12, size=k) + rng.normal(0, 5, size=k)\n",
    "        y[idx] = y[idx] * rng.integers(6, 12, size=k) + rng.normal(0, 8, size=k)\n",
    "        \n",
    "    return pd.DataFrame({\"x\": x, \"y\": y})\n",
    "\n",
    "if DATA_PATH.exists():\n",
    "    df = pd.read_csv(DATA_PATH)\n",
    "else:\n",
    "    df = make_synthetic()\n",
    "    df.to_csv(DATA_PATH, index=False)\n",
    "    source = \"synthetic (saved to CSV)\"\n",
    "\n",
    "print(f\"Data shape: {df.shape} — {source}\")\n",
    "df.head()\n"
   ]
  },
  {
   "cell_type": "code",
   "execution_count": 73,
   "id": "a8f7684d-64fc-4145-a4bd-22f1874bef18",
   "metadata": {},
   "outputs": [
    {
     "name": "stdout",
     "output_type": "stream",
     "text": [
      "IQR outlier values:\n",
      " [-9.38811841712654, 51.30017138260258, -33.5682429009469, 8.613094907722369, -50.76369470978607, 27.43548166833898, 9.996739408827992, 8.739326752343533, -12.713549281979343, 21.214691651335528, -10.72134712073067, 57.82683953671922, 16.259260280486032, 25.07570015913494, 10.38405356005341, 13.65008959439611, 34.68858113328203, -8.590563091067352, -18.445503497056745, 45.337843171180346, -27.948723065572725]\n",
      "\n",
      "Z-score outlier values:\n",
      " [51.30017138260258, -33.5682429009469, -50.76369470978607, 27.43548166833898, 21.214691651335528, 57.82683953671922, 25.07570015913494, 34.68858113328203, 45.337843171180346, -27.948723065572725]\n"
     ]
    }
   ],
   "source": [
    "#Create outlier flags\n",
    "\n",
    "#from src.outlier import detect_outliers_iqr, detect_outliers_zscore, winsorize_series\n",
    "\n",
    "target_col = 'y'\n",
    "\n",
    "# Outlier masks\n",
    "mask_iqr = detect_outliers_iqr(df[target_col])\n",
    "mask_z   = detect_outliers_zscore(df[target_col], threshold=3.0)\n",
    "\n",
    "# Values flagged by each method\n",
    "outliers_iqr = df.loc[mask_iqr, target_col]\n",
    "outliers_z   = df.loc[mask_z, target_col]\n",
    "\n",
    "print(\"IQR outlier values:\\n\", outliers_iqr.to_list())\n",
    "print(\"\\nZ-score outlier values:\\n\", outliers_z.to_list())\n"
   ]
  },
  {
   "cell_type": "code",
   "execution_count": 74,
   "id": "c50c8814-99fe-4156-ab61-2f3835adbcf2",
   "metadata": {},
   "outputs": [
    {
     "data": {
      "text/plain": [
       "outlier_iqr    0.046\n",
       "outlier_z      0.020\n",
       "dtype: float64"
      ]
     },
     "execution_count": 74,
     "metadata": {},
     "output_type": "execute_result"
    }
   ],
   "source": [
    "#Class Code Comparison\n",
    "target_col = 'daily_return' if 'daily_return' in df.columns else df.select_dtypes(include=['number']).columns[0]\n",
    "df['outlier_iqr'] = detect_outliers_iqr(df[target_col])\n",
    "df['outlier_z'] = detect_outliers_zscore(df[target_col], threshold=3.0)\n",
    "df[['outlier_iqr', 'outlier_z']].mean()  # fraction flagged"
   ]
  },
  {
   "cell_type": "markdown",
   "id": "e05298c2-8c1a-4eaa-bd50-b126b5348cc4",
   "metadata": {},
   "source": [
    "## Sensitivity analysis\n",
    "\n",
    "Fit a simple linear regression and compare coefficients/R2/MAE with vs. without outliers;\n",
    "optionally include winsorized."
   ]
  },
  {
   "cell_type": "code",
   "execution_count": 84,
   "id": "2123e4a6-1f4d-440b-be8f-7772b094bc3b",
   "metadata": {
    "jupyter": {
     "source_hidden": true
    }
   },
   "outputs": [
    {
     "name": "stdout",
     "output_type": "stream",
     "text": [
      "             all  filtered_iqr  winsorized\n",
      "mean   -0.106137     -0.052133   -0.058100\n",
      "median -0.049663     -0.047480   -0.049663\n",
      "std     2.086471      0.970897    1.000095\n"
     ]
    }
   ],
   "source": [
    "#class notes\n",
    "# Summary stats for full, filtered, and winsorized data\n",
    "def get_summary(series):\n",
    "    return pd.Series({\n",
    "        \"mean\": series.mean(),\n",
    "        \"median\": series.median(),\n",
    "        \"std\": series.std()\n",
    "    })\n",
    "\n",
    "# all data\n",
    "summ_all = get_summary(df[target_col])\n",
    "\n",
    "# filtered (no outliers)\n",
    "summ_filtered = get_summary(df.loc[~df[\"outlier_iqr\"], target_col])\n",
    "\n",
    "# winsorized (if function exists)\n",
    "summ_w = None\n",
    "if \"winsorize_series\" in globals():\n",
    "    w = winsorize_series(df[target_col])\n",
    "    summ_w = get_summary(w)\n",
    "\n",
    "# Combine into one table\n",
    "comp = pd.concat(\n",
    "    {\n",
    "        \"all\": summ_all,\n",
    "        \"filtered_iqr\": summ_filtered,\n",
    "        **({\"winsorized\": summ_w} if summ_w is not None else {})\n",
    "    },\n",
    "    axis=1\n",
    ")\n",
    "\n",
    "print(comp)\n"
   ]
  },
  {
   "cell_type": "code",
   "execution_count": 85,
   "id": "af10b6e5-e17d-43fe-9f0d-e68b8c938aaf",
   "metadata": {},
   "outputs": [
    {
     "name": "stdout",
     "output_type": "stream",
     "text": [
      "             all  filtered_iqr  winsorized\n",
      "mean   -0.106137     -0.052133   -0.058100\n",
      "median -0.049663     -0.047480   -0.049663\n",
      "std     2.086471      0.970897    1.000095\n"
     ]
    }
   ],
   "source": [
    "#  summary stats for all, filtered, and winsorized data\n",
    "def simple_summary(series):\n",
    "    return {\"mean\": series.mean(), \"median\": series.median(), \"std\": series.std()}\n",
    "\n",
    "summaries = {\n",
    "    \"all\": simple_summary(df[target_col]),\n",
    "    \"filtered_iqr\": simple_summary(df.loc[~df[\"outlier_iqr\"], target_col])\n",
    "}\n",
    "\n",
    "if \"winsorize_series\" in globals():\n",
    "    summaries[\"winsorized\"] = simple_summary(winsorize_series(df[target_col]))\n",
    "\n",
    "# Convert to DataFrame for display\n",
    "comp = pd.DataFrame(summaries)\n",
    "print(comp)\n"
   ]
  },
  {
   "cell_type": "code",
   "execution_count": 86,
   "id": "d8828e41-4f86-4c32-ae4a-6406cd940ea1",
   "metadata": {},
   "outputs": [
    {
     "name": "stderr",
     "output_type": "stream",
     "text": [
      "/var/folders/zp/cxqlz1xd78bcshll8_fr_byw0000gn/T/ipykernel_55417/842029753.py:3: MatplotlibDeprecationWarning: The 'labels' parameter of boxplot() has been renamed 'tick_labels' since Matplotlib 3.9; support for the old name will be dropped in 3.11.\n",
      "  plt.boxplot([df[\"y\"], df_no[\"y\"], df_win[\"y_win\"]], labels=[\"raw\", \"no_outliers\", \"winsorized\"])\n"
     ]
    },
    {
     "data": {
      "image/png": "[encoded data removed]",
      "text/plain": [
       "<Figure size 600x400 with 1 Axes>"
      ]
     },
     "metadata": {},
     "output_type": "display_data"
    }
   ],
   "source": [
    "# Boxplot of y\n",
    "plt.figure(figsize=(6,4))\n",
    "plt.boxplot([df[\"y\"], df_no[\"y\"], df_win[\"y_win\"]], labels=[\"raw\", \"no_outliers\", \"winsorized\"])\n",
    "plt.title(\"Distribution of y across treatments\")\n",
    "plt.ylabel(\"y\")\n",
    "plt.show()\n"
   ]
  },
  {
   "cell_type": "code",
   "execution_count": 87,
   "id": "908e1ac1-2c44-4673-8c44-c2f8db294ea3",
   "metadata": {},
   "outputs": [
    {
     "data": {
      "image/png": "[encoded data removed]",
      "text/plain": [
       "<Figure size 600x400 with 1 Axes>"
      ]
     },
     "metadata": {},
     "output_type": "display_data"
    }
   ],
   "source": [
    "# Scatter highlighting IQR outliers on y\n",
    "plt.figure(figsize=(6,4))\n",
    "inliers = ~df[\"outlier_iqr\"]\n",
    "plt.scatter(df.loc[inliers, \"x\"], df.loc[inliers, \"y\"], alpha=0.7, label=\"inlier\")\n",
    "plt.scatter(df.loc[~inliers, \"x\"], df.loc[~inliers, \"y\"], alpha=0.9, marker=\"x\", label=\"outlier\")\n",
    "\n",
    "plt.title(\"y vs x (IQR outliers on y highlighted)\")\n",
    "plt.xlabel(\"x\"); plt.ylabel(\"y\"); plt.legend()\n",
    "plt.show()\n"
   ]
  },
  {
   "cell_type": "code",
   "execution_count": null,
   "id": "41f23fef-8296-4b19-9552-525c3d6d28e3",
   "metadata": {},
   "outputs": [],
   "source": []
  }
 ],
 "metadata": {
  "kernelspec": {
   "display_name": "Python 3 (ipykernel)",
   "language": "python",
   "name": "python3"
  },
  "language_info": {
   "codemirror_mode": {
    "name": "ipython",
    "version": 3
   },
   "file_extension": ".py",
   "mimetype": "text/x-python",
   "name": "python",
   "nbconvert_exporter": "python",
   "pygments_lexer": "ipython3",
   "version": "3.10.18"
  }
 },
 "nbformat": 4,
 "nbformat_minor": 5
}
