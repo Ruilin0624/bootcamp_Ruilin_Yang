{
 "cells": [
  {
   "cell_type": "code",
   "execution_count": 62,
   "id": "debd065a-3abb-4c62-8838-c7278dc36ab4",
   "metadata": {},
   "outputs": [
    {
     "name": "stdout",
     "output_type": "stream",
     "text": [
      "Requirement already satisfied: matplotlib in /opt/miniconda3/lib/python3.13/site-packages (3.10.5)\n",
      "Requirement already satisfied: pandas in /opt/miniconda3/lib/python3.13/site-packages (2.3.1)\n",
      "Requirement already satisfied: numpy in /opt/miniconda3/lib/python3.13/site-packages (2.3.2)\n",
      "Requirement already satisfied: datetime in /opt/miniconda3/lib/python3.13/site-packages (5.5)\n",
      "Requirement already satisfied: jupyterlab in /opt/miniconda3/lib/python3.13/site-packages (4.4.5)\n",
      "Requirement already satisfied: python-dotenv in /opt/miniconda3/lib/python3.13/site-packages (1.1.1)\n",
      "Requirement already satisfied: contourpy>=1.0.1 in /opt/miniconda3/lib/python3.13/site-packages (from matplotlib) (1.3.3)\n",
      "Requirement already satisfied: cycler>=0.10 in /opt/miniconda3/lib/python3.13/site-packages (from matplotlib) (0.12.1)\n",
      "Requirement already satisfied: fonttools>=4.22.0 in /opt/miniconda3/lib/python3.13/site-packages (from matplotlib) (4.59.1)\n",
      "Requirement already satisfied: kiwisolver>=1.3.1 in /opt/miniconda3/lib/python3.13/site-packages (from matplotlib) (1.4.9)\n",
      "Requirement already satisfied: packaging>=20.0 in /opt/miniconda3/lib/python3.13/site-packages (from matplotlib) (24.2)\n",
      "Requirement already satisfied: pillow>=8 in /opt/miniconda3/lib/python3.13/site-packages (from matplotlib) (11.3.0)\n",
      "Requirement already satisfied: pyparsing>=2.3.1 in /opt/miniconda3/lib/python3.13/site-packages (from matplotlib) (3.2.3)\n",
      "Requirement already satisfied: python-dateutil>=2.7 in /opt/miniconda3/lib/python3.13/site-packages (from matplotlib) (2.9.0.post0)\n",
      "Requirement already satisfied: pytz>=2020.1 in /opt/miniconda3/lib/python3.13/site-packages (from pandas) (2025.2)\n",
      "Requirement already satisfied: tzdata>=2022.7 in /opt/miniconda3/lib/python3.13/site-packages (from pandas) (2025.2)\n",
      "Requirement already satisfied: zope.interface in /opt/miniconda3/lib/python3.13/site-packages (from datetime) (7.2)\n",
      "Requirement already satisfied: async-lru>=1.0.0 in /opt/miniconda3/lib/python3.13/site-packages (from jupyterlab) (2.0.5)\n",
      "Requirement already satisfied: httpx>=0.25.0 in /opt/miniconda3/lib/python3.13/site-packages (from jupyterlab) (0.28.1)\n",
      "Requirement already satisfied: ipykernel>=6.5.0 in /opt/miniconda3/lib/python3.13/site-packages (from jupyterlab) (6.30.1)\n",
      "Requirement already satisfied: jinja2>=3.0.3 in /opt/miniconda3/lib/python3.13/site-packages (from jupyterlab) (3.1.6)\n",
      "Requirement already satisfied: jupyter-core in /opt/miniconda3/lib/python3.13/site-packages (from jupyterlab) (5.8.1)\n",
      "Requirement already satisfied: jupyter-lsp>=2.0.0 in /opt/miniconda3/lib/python3.13/site-packages (from jupyterlab) (2.2.6)\n",
      "Requirement already satisfied: jupyter-server<3,>=2.4.0 in /opt/miniconda3/lib/python3.13/site-packages (from jupyterlab) (2.16.0)\n",
      "Requirement already satisfied: jupyterlab-server<3,>=2.27.1 in /opt/miniconda3/lib/python3.13/site-packages (from jupyterlab) (2.27.3)\n",
      "Requirement already satisfied: notebook-shim>=0.2 in /opt/miniconda3/lib/python3.13/site-packages (from jupyterlab) (0.2.4)\n",
      "Requirement already satisfied: setuptools>=41.1.0 in /opt/miniconda3/lib/python3.13/site-packages (from jupyterlab) (78.1.1)\n",
      "Requirement already satisfied: tornado>=6.2.0 in /opt/miniconda3/lib/python3.13/site-packages (from jupyterlab) (6.5.2)\n",
      "Requirement already satisfied: traitlets in /opt/miniconda3/lib/python3.13/site-packages (from jupyterlab) (5.14.3)\n",
      "Requirement already satisfied: anyio>=3.1.0 in /opt/miniconda3/lib/python3.13/site-packages (from jupyter-server<3,>=2.4.0->jupyterlab) (4.10.0)\n",
      "Requirement already satisfied: argon2-cffi>=21.1 in /opt/miniconda3/lib/python3.13/site-packages (from jupyter-server<3,>=2.4.0->jupyterlab) (25.1.0)\n",
      "Requirement already satisfied: jupyter-client>=7.4.4 in /opt/miniconda3/lib/python3.13/site-packages (from jupyter-server<3,>=2.4.0->jupyterlab) (8.6.3)\n",
      "Requirement already satisfied: jupyter-events>=0.11.0 in /opt/miniconda3/lib/python3.13/site-packages (from jupyter-server<3,>=2.4.0->jupyterlab) (0.12.0)\n",
      "Requirement already satisfied: jupyter-server-terminals>=0.4.4 in /opt/miniconda3/lib/python3.13/site-packages (from jupyter-server<3,>=2.4.0->jupyterlab) (0.5.3)\n",
      "Requirement already satisfied: nbconvert>=6.4.4 in /opt/miniconda3/lib/python3.13/site-packages (from jupyter-server<3,>=2.4.0->jupyterlab) (7.16.6)\n",
      "Requirement already satisfied: nbformat>=5.3.0 in /opt/miniconda3/lib/python3.13/site-packages (from jupyter-server<3,>=2.4.0->jupyterlab) (5.10.4)\n",
      "Requirement already satisfied: overrides>=5.0 in /opt/miniconda3/lib/python3.13/site-packages (from jupyter-server<3,>=2.4.0->jupyterlab) (7.7.0)\n",
      "Requirement already satisfied: prometheus-client>=0.9 in /opt/miniconda3/lib/python3.13/site-packages (from jupyter-server<3,>=2.4.0->jupyterlab) (0.22.1)\n",
      "Requirement already satisfied: pyzmq>=24 in /opt/miniconda3/lib/python3.13/site-packages (from jupyter-server<3,>=2.4.0->jupyterlab) (27.0.1)\n",
      "Requirement already satisfied: send2trash>=1.8.2 in /opt/miniconda3/lib/python3.13/site-packages (from jupyter-server<3,>=2.4.0->jupyterlab) (1.8.3)\n",
      "Requirement already satisfied: terminado>=0.8.3 in /opt/miniconda3/lib/python3.13/site-packages (from jupyter-server<3,>=2.4.0->jupyterlab) (0.18.1)\n",
      "Requirement already satisfied: websocket-client>=1.7 in /opt/miniconda3/lib/python3.13/site-packages (from jupyter-server<3,>=2.4.0->jupyterlab) (1.8.0)\n",
      "Requirement already satisfied: babel>=2.10 in /opt/miniconda3/lib/python3.13/site-packages (from jupyterlab-server<3,>=2.27.1->jupyterlab) (2.17.0)\n",
      "Requirement already satisfied: json5>=0.9.0 in /opt/miniconda3/lib/python3.13/site-packages (from jupyterlab-server<3,>=2.27.1->jupyterlab) (0.12.1)\n",
      "Requirement already satisfied: jsonschema>=4.18.0 in /opt/miniconda3/lib/python3.13/site-packages (from jupyterlab-server<3,>=2.27.1->jupyterlab) (4.25.0)\n",
      "Requirement already satisfied: requests>=2.31 in /opt/miniconda3/lib/python3.13/site-packages (from jupyterlab-server<3,>=2.27.1->jupyterlab) (2.32.4)\n",
      "Requirement already satisfied: idna>=2.8 in /opt/miniconda3/lib/python3.13/site-packages (from anyio>=3.1.0->jupyter-server<3,>=2.4.0->jupyterlab) (3.7)\n",
      "Requirement already satisfied: sniffio>=1.1 in /opt/miniconda3/lib/python3.13/site-packages (from anyio>=3.1.0->jupyter-server<3,>=2.4.0->jupyterlab) (1.3.1)\n",
      "Requirement already satisfied: argon2-cffi-bindings in /opt/miniconda3/lib/python3.13/site-packages (from argon2-cffi>=21.1->jupyter-server<3,>=2.4.0->jupyterlab) (25.1.0)\n",
      "Requirement already satisfied: certifi in /opt/miniconda3/lib/python3.13/site-packages (from httpx>=0.25.0->jupyterlab) (2025.7.14)\n",
      "Requirement already satisfied: httpcore==1.* in /opt/miniconda3/lib/python3.13/site-packages (from httpx>=0.25.0->jupyterlab) (1.0.9)\n",
      "Requirement already satisfied: h11>=0.16 in /opt/miniconda3/lib/python3.13/site-packages (from httpcore==1.*->httpx>=0.25.0->jupyterlab) (0.16.0)\n",
      "Requirement already satisfied: appnope>=0.1.2 in /opt/miniconda3/lib/python3.13/site-packages (from ipykernel>=6.5.0->jupyterlab) (0.1.4)\n",
      "Requirement already satisfied: comm>=0.1.1 in /opt/miniconda3/lib/python3.13/site-packages (from ipykernel>=6.5.0->jupyterlab) (0.2.3)\n",
      "Requirement already satisfied: debugpy>=1.6.5 in /opt/miniconda3/lib/python3.13/site-packages (from ipykernel>=6.5.0->jupyterlab) (1.8.16)\n",
      "Requirement already satisfied: ipython>=7.23.1 in /opt/miniconda3/lib/python3.13/site-packages (from ipykernel>=6.5.0->jupyterlab) (9.4.0)\n",
      "Requirement already satisfied: matplotlib-inline>=0.1 in /opt/miniconda3/lib/python3.13/site-packages (from ipykernel>=6.5.0->jupyterlab) (0.1.7)\n",
      "Requirement already satisfied: nest-asyncio>=1.4 in /opt/miniconda3/lib/python3.13/site-packages (from ipykernel>=6.5.0->jupyterlab) (1.6.0)\n",
      "Requirement already satisfied: psutil>=5.7 in /opt/miniconda3/lib/python3.13/site-packages (from ipykernel>=6.5.0->jupyterlab) (7.0.0)\n",
      "Requirement already satisfied: decorator in /opt/miniconda3/lib/python3.13/site-packages (from ipython>=7.23.1->ipykernel>=6.5.0->jupyterlab) (5.2.1)\n",
      "Requirement already satisfied: ipython-pygments-lexers in /opt/miniconda3/lib/python3.13/site-packages (from ipython>=7.23.1->ipykernel>=6.5.0->jupyterlab) (1.1.1)\n",
      "Requirement already satisfied: jedi>=0.16 in /opt/miniconda3/lib/python3.13/site-packages (from ipython>=7.23.1->ipykernel>=6.5.0->jupyterlab) (0.19.2)\n",
      "Requirement already satisfied: pexpect>4.3 in /opt/miniconda3/lib/python3.13/site-packages (from ipython>=7.23.1->ipykernel>=6.5.0->jupyterlab) (4.9.0)\n",
      "Requirement already satisfied: prompt_toolkit<3.1.0,>=3.0.41 in /opt/miniconda3/lib/python3.13/site-packages (from ipython>=7.23.1->ipykernel>=6.5.0->jupyterlab) (3.0.51)\n",
      "Requirement already satisfied: pygments>=2.4.0 in /opt/miniconda3/lib/python3.13/site-packages (from ipython>=7.23.1->ipykernel>=6.5.0->jupyterlab) (2.19.1)\n",
      "Requirement already satisfied: stack_data in /opt/miniconda3/lib/python3.13/site-packages (from ipython>=7.23.1->ipykernel>=6.5.0->jupyterlab) (0.6.3)\n",
      "Requirement already satisfied: wcwidth in /opt/miniconda3/lib/python3.13/site-packages (from prompt_toolkit<3.1.0,>=3.0.41->ipython>=7.23.1->ipykernel>=6.5.0->jupyterlab) (0.2.13)\n",
      "Requirement already satisfied: parso<0.9.0,>=0.8.4 in /opt/miniconda3/lib/python3.13/site-packages (from jedi>=0.16->ipython>=7.23.1->ipykernel>=6.5.0->jupyterlab) (0.8.4)\n",
      "Requirement already satisfied: MarkupSafe>=2.0 in /opt/miniconda3/lib/python3.13/site-packages (from jinja2>=3.0.3->jupyterlab) (3.0.2)\n",
      "Requirement already satisfied: attrs>=22.2.0 in /opt/miniconda3/lib/python3.13/site-packages (from jsonschema>=4.18.0->jupyterlab-server<3,>=2.27.1->jupyterlab) (25.3.0)\n",
      "Requirement already satisfied: jsonschema-specifications>=2023.03.6 in /opt/miniconda3/lib/python3.13/site-packages (from jsonschema>=4.18.0->jupyterlab-server<3,>=2.27.1->jupyterlab) (2025.4.1)\n",
      "Requirement already satisfied: referencing>=0.28.4 in /opt/miniconda3/lib/python3.13/site-packages (from jsonschema>=4.18.0->jupyterlab-server<3,>=2.27.1->jupyterlab) (0.36.2)\n",
      "Requirement already satisfied: rpds-py>=0.7.1 in /opt/miniconda3/lib/python3.13/site-packages (from jsonschema>=4.18.0->jupyterlab-server<3,>=2.27.1->jupyterlab) (0.27.0)\n",
      "Requirement already satisfied: platformdirs>=2.5 in /opt/miniconda3/lib/python3.13/site-packages (from jupyter-core->jupyterlab) (4.3.7)\n",
      "Requirement already satisfied: python-json-logger>=2.0.4 in /opt/miniconda3/lib/python3.13/site-packages (from jupyter-events>=0.11.0->jupyter-server<3,>=2.4.0->jupyterlab) (3.3.0)\n",
      "Requirement already satisfied: pyyaml>=5.3 in /opt/miniconda3/lib/python3.13/site-packages (from jupyter-events>=0.11.0->jupyter-server<3,>=2.4.0->jupyterlab) (6.0.2)\n",
      "Requirement already satisfied: rfc3339-validator in /opt/miniconda3/lib/python3.13/site-packages (from jupyter-events>=0.11.0->jupyter-server<3,>=2.4.0->jupyterlab) (0.1.4)\n",
      "Requirement already satisfied: rfc3986-validator>=0.1.1 in /opt/miniconda3/lib/python3.13/site-packages (from jupyter-events>=0.11.0->jupyter-server<3,>=2.4.0->jupyterlab) (0.1.1)\n",
      "Requirement already satisfied: fqdn in /opt/miniconda3/lib/python3.13/site-packages (from jsonschema[format-nongpl]>=4.18.0->jupyter-events>=0.11.0->jupyter-server<3,>=2.4.0->jupyterlab) (1.5.1)\n",
      "Requirement already satisfied: isoduration in /opt/miniconda3/lib/python3.13/site-packages (from jsonschema[format-nongpl]>=4.18.0->jupyter-events>=0.11.0->jupyter-server<3,>=2.4.0->jupyterlab) (20.11.0)\n",
      "Requirement already satisfied: jsonpointer>1.13 in /opt/miniconda3/lib/python3.13/site-packages (from jsonschema[format-nongpl]>=4.18.0->jupyter-events>=0.11.0->jupyter-server<3,>=2.4.0->jupyterlab) (2.1)\n",
      "Requirement already satisfied: rfc3987-syntax>=1.1.0 in /opt/miniconda3/lib/python3.13/site-packages (from jsonschema[format-nongpl]>=4.18.0->jupyter-events>=0.11.0->jupyter-server<3,>=2.4.0->jupyterlab) (1.1.0)\n",
      "Requirement already satisfied: uri-template in /opt/miniconda3/lib/python3.13/site-packages (from jsonschema[format-nongpl]>=4.18.0->jupyter-events>=0.11.0->jupyter-server<3,>=2.4.0->jupyterlab) (1.3.0)\n",
      "Requirement already satisfied: webcolors>=24.6.0 in /opt/miniconda3/lib/python3.13/site-packages (from jsonschema[format-nongpl]>=4.18.0->jupyter-events>=0.11.0->jupyter-server<3,>=2.4.0->jupyterlab) (24.11.1)\n",
      "Requirement already satisfied: beautifulsoup4 in /opt/miniconda3/lib/python3.13/site-packages (from nbconvert>=6.4.4->jupyter-server<3,>=2.4.0->jupyterlab) (4.13.4)\n",
      "Requirement already satisfied: bleach!=5.0.0 in /opt/miniconda3/lib/python3.13/site-packages (from bleach[css]!=5.0.0->nbconvert>=6.4.4->jupyter-server<3,>=2.4.0->jupyterlab) (6.2.0)\n",
      "Requirement already satisfied: defusedxml in /opt/miniconda3/lib/python3.13/site-packages (from nbconvert>=6.4.4->jupyter-server<3,>=2.4.0->jupyterlab) (0.7.1)\n",
      "Requirement already satisfied: jupyterlab-pygments in /opt/miniconda3/lib/python3.13/site-packages (from nbconvert>=6.4.4->jupyter-server<3,>=2.4.0->jupyterlab) (0.3.0)\n",
      "Requirement already satisfied: mistune<4,>=2.0.3 in /opt/miniconda3/lib/python3.13/site-packages (from nbconvert>=6.4.4->jupyter-server<3,>=2.4.0->jupyterlab) (3.1.3)\n",
      "Requirement already satisfied: nbclient>=0.5.0 in /opt/miniconda3/lib/python3.13/site-packages (from nbconvert>=6.4.4->jupyter-server<3,>=2.4.0->jupyterlab) (0.10.2)\n",
      "Requirement already satisfied: pandocfilters>=1.4.1 in /opt/miniconda3/lib/python3.13/site-packages (from nbconvert>=6.4.4->jupyter-server<3,>=2.4.0->jupyterlab) (1.5.1)\n",
      "Requirement already satisfied: webencodings in /opt/miniconda3/lib/python3.13/site-packages (from bleach!=5.0.0->bleach[css]!=5.0.0->nbconvert>=6.4.4->jupyter-server<3,>=2.4.0->jupyterlab) (0.5.1)\n",
      "Requirement already satisfied: tinycss2<1.5,>=1.1.0 in /opt/miniconda3/lib/python3.13/site-packages (from bleach[css]!=5.0.0->nbconvert>=6.4.4->jupyter-server<3,>=2.4.0->jupyterlab) (1.4.0)\n",
      "Requirement already satisfied: fastjsonschema>=2.15 in /opt/miniconda3/lib/python3.13/site-packages (from nbformat>=5.3.0->jupyter-server<3,>=2.4.0->jupyterlab) (2.21.2)\n",
      "Requirement already satisfied: ptyprocess>=0.5 in /opt/miniconda3/lib/python3.13/site-packages (from pexpect>4.3->ipython>=7.23.1->ipykernel>=6.5.0->jupyterlab) (0.7.0)\n",
      "Requirement already satisfied: six>=1.5 in /opt/miniconda3/lib/python3.13/site-packages (from python-dateutil>=2.7->matplotlib) (1.17.0)\n",
      "Requirement already satisfied: charset_normalizer<4,>=2 in /opt/miniconda3/lib/python3.13/site-packages (from requests>=2.31->jupyterlab-server<3,>=2.27.1->jupyterlab) (3.3.2)\n",
      "Requirement already satisfied: urllib3<3,>=1.21.1 in /opt/miniconda3/lib/python3.13/site-packages (from requests>=2.31->jupyterlab-server<3,>=2.27.1->jupyterlab) (2.5.0)\n",
      "Requirement already satisfied: lark>=1.2.2 in /opt/miniconda3/lib/python3.13/site-packages (from rfc3987-syntax>=1.1.0->jsonschema[format-nongpl]>=4.18.0->jupyter-events>=0.11.0->jupyter-server<3,>=2.4.0->jupyterlab) (1.2.2)\n",
      "Requirement already satisfied: cffi>=1.0.1 in /opt/miniconda3/lib/python3.13/site-packages (from argon2-cffi-bindings->argon2-cffi>=21.1->jupyter-server<3,>=2.4.0->jupyterlab) (1.17.1)\n",
      "Requirement already satisfied: pycparser in /opt/miniconda3/lib/python3.13/site-packages (from cffi>=1.0.1->argon2-cffi-bindings->argon2-cffi>=21.1->jupyter-server<3,>=2.4.0->jupyterlab) (2.21)\n",
      "Requirement already satisfied: soupsieve>1.2 in /opt/miniconda3/lib/python3.13/site-packages (from beautifulsoup4->nbconvert>=6.4.4->jupyter-server<3,>=2.4.0->jupyterlab) (2.7)\n",
      "Requirement already satisfied: typing-extensions>=4.0.0 in /opt/miniconda3/lib/python3.13/site-packages (from beautifulsoup4->nbconvert>=6.4.4->jupyter-server<3,>=2.4.0->jupyterlab) (4.12.2)\n",
      "Requirement already satisfied: arrow>=0.15.0 in /opt/miniconda3/lib/python3.13/site-packages (from isoduration->jsonschema[format-nongpl]>=4.18.0->jupyter-events>=0.11.0->jupyter-server<3,>=2.4.0->jupyterlab) (1.3.0)\n",
      "Requirement already satisfied: types-python-dateutil>=2.8.10 in /opt/miniconda3/lib/python3.13/site-packages (from arrow>=0.15.0->isoduration->jsonschema[format-nongpl]>=4.18.0->jupyter-events>=0.11.0->jupyter-server<3,>=2.4.0->jupyterlab) (2.9.0.20250809)\n",
      "Requirement already satisfied: executing>=1.2.0 in /opt/miniconda3/lib/python3.13/site-packages (from stack_data->ipython>=7.23.1->ipykernel>=6.5.0->jupyterlab) (2.2.0)\n",
      "Requirement already satisfied: asttokens>=2.1.0 in /opt/miniconda3/lib/python3.13/site-packages (from stack_data->ipython>=7.23.1->ipykernel>=6.5.0->jupyterlab) (3.0.0)\n",
      "Requirement already satisfied: pure-eval in /opt/miniconda3/lib/python3.13/site-packages (from stack_data->ipython>=7.23.1->ipykernel>=6.5.0->jupyterlab) (0.2.3)\n",
      "Note: you may need to restart the kernel to use updated packages.\n"
     ]
    }
   ],
   "source": [
    "pip install matplotlib pandas numpy datetime jupyterlab python-dotenv "
   ]
  },
  {
   "cell_type": "code",
   "execution_count": 58,
   "id": "2e719402-0918-4763-bb69-a3779263a38d",
   "metadata": {},
   "outputs": [
    {
     "ename": "ModuleNotFoundError",
     "evalue": "No module named 'sklearn'",
     "output_type": "error",
     "traceback": [
      "\u001b[31m---------------------------------------------------------------------------\u001b[39m",
      "\u001b[31mModuleNotFoundError\u001b[39m                       Traceback (most recent call last)",
      "\u001b[36mCell\u001b[39m\u001b[36m \u001b[39m\u001b[32mIn[58]\u001b[39m\u001b[32m, line 7\u001b[39m\n\u001b[32m      5\u001b[39m \u001b[38;5;28;01mimport\u001b[39;00m\u001b[38;5;250m \u001b[39m\u001b[34;01mmatplotlib\u001b[39;00m\u001b[34;01m.\u001b[39;00m\u001b[34;01mpyplot\u001b[39;00m\u001b[38;5;250m \u001b[39m\u001b[38;5;28;01mas\u001b[39;00m\u001b[38;5;250m \u001b[39m\u001b[34;01mplt\u001b[39;00m\n\u001b[32m      6\u001b[39m \u001b[38;5;28;01mfrom\u001b[39;00m\u001b[38;5;250m \u001b[39m\u001b[34;01mpathlib\u001b[39;00m\u001b[38;5;250m \u001b[39m\u001b[38;5;28;01mimport\u001b[39;00m Path\n\u001b[32m----> \u001b[39m\u001b[32m7\u001b[39m \u001b[38;5;28;01mfrom\u001b[39;00m\u001b[38;5;250m \u001b[39m\u001b[34;01msklearn\u001b[39;00m\u001b[34;01m.\u001b[39;00m\u001b[34;01mlinear_model\u001b[39;00m\u001b[38;5;250m \u001b[39m\u001b[38;5;28;01mimport\u001b[39;00m LinearRegression\n\u001b[32m      8\u001b[39m \u001b[38;5;28;01mfrom\u001b[39;00m\u001b[38;5;250m \u001b[39m\u001b[34;01msklearn\u001b[39;00m\u001b[34;01m.\u001b[39;00m\u001b[34;01mmetrics\u001b[39;00m\u001b[38;5;250m \u001b[39m\u001b[38;5;28;01mimport\u001b[39;00m mean_absolute_error, r2_score\n\u001b[32m      9\u001b[39m np.random.seed(\u001b[32m17\u001b[39m)\n",
      "\u001b[31mModuleNotFoundError\u001b[39m: No module named 'sklearn'"
     ]
    }
   ],
   "source": [
    "#use data from lesson\n",
    "\n",
    "import numpy as np\n",
    "import pandas as pd\n",
    "import matplotlib.pyplot as plt\n",
    "from pathlib import Path\n",
    "from sklearn.linear_model import LinearRegression\n",
    "from sklearn.metrics import mean_absolute_error, r2_score\n",
    "np.random.seed(17)\n",
    "\n",
    "\n",
    "# Define folder paths relative to this notebook\n",
    "raw_dir = 'data/raw'\n",
    "processed_dir = 'data/processed'\n",
    "\n",
    "# Create folders if they don't exist\n",
    "os.makedirs(raw_dir, exist_ok=True)\n",
    "os.makedirs(processed_dir, exist_ok=True)\n",
    "\n",
    "# Generate business day dates\n",
    "dates = pd.date_range(start=\"2022-01-03\", end=\"2022-06-10\", freq=\"B\")\n",
    "\n",
    "# Fixed random seed for reproducibility\n",
    "np.random.seed(17)\n",
    "\n",
    "# Column 1: daily_return ~ N(0, 0.01)\n",
    "returns = np.random.normal(0, 0.01, size=len(dates))\n",
    "mask_pre_may = dates < \"2022-05-01\"\n",
    "returns[mask_pre_may] -= 0.0015  \n",
    "\n",
    "# Inject \"shock\" values\n",
    "shock_values = {\n",
    "    \"2022-05-02\": 0.1748425237194541,\n",
    "    \"2022-05-03\": -0.16825801732486943,\n",
    "    \"2022-05-06\": -0.19667220757153227,\n",
    "    \"2022-05-09\": 0.21240223590614747,\n",
    "    \"2022-05-12\": -0.178729287231294\n",
    "}\n",
    "for d, v in shock_values.items():\n",
    "    idx = np.where(dates == pd.to_datetime(d))[0][0]\n",
    "    returns[idx] = v\n",
    "\n",
    "# Column 2: daily_return_2, correlated with daily_return + small noise\n",
    "daily_return_2 = returns * 0.6 + np.random.normal(0, 0.005, size=len(dates))\n",
    "\n",
    "# Create DataFrame with two numeric columns\n",
    "df = pd.DataFrame({\n",
    "    \"date\": dates,\n",
    "    \"daily_return\": returns,\n",
    "    \"daily_return_2\": daily_return_2\n",
    "})\n",
    "\n",
    "# Save to CSV in raw data folder\n",
    "csv_path = os.path.join(raw_dir, 'outliers_homework.csv')\n",
    "if not os.path.exists(csv_path):\n",
    "    df.to_csv(csv_path, index=False)\n",
    "    print(f'Synthetic dataset with two columns created and saved to {csv_path}')\n",
    "else:\n",
    "    print(f'File already exists at {csv_path}. Skipping CSV creation to avoid overwrite.')"
   ]
  },
  {
   "cell_type": "code",
   "execution_count": 59,
   "id": "31ad02e4-cb1c-4d56-b3cf-adba05e81043",
   "metadata": {},
   "outputs": [],
   "source": [
    "def detect_outliers_iqr(series: pd.Series, iqr_mult: float = 1.5) -> pd.Series:\n",
    "    s = pd.to_numeric(series, errors=\"coerce\") \n",
    "    #coerce -->values cant convert to number are replaced by NaN, not considered into any future formulas\n",
    "    # s = all values shoul be numbers or NaN\n",
    "    q1 = s.quantile(0.25)\n",
    "    q3 = s.quantile(0.75)\n",
    "    iqr = q3 - q1\n",
    "    lower = q1 - iqr_mult * iqr\n",
    "    upper = q3 + iqr_mult * iqr\n",
    "    return (s < lower) | (s > upper)\n",
    "\n",
    "def detect_outliers_zscore(series: pd.Series, threshold: float = 3.0) -> pd.Series:\n",
    "    s = pd.to_numeric(series, errors=\"coerce\")\n",
    "    mu = s.mean()\n",
    "    stdev = s.std(ddof=0)\n",
    "    if stdev == 0 or np.isnan(stdev):\n",
    "        return pd.Series(False, index=s.index)\n",
    "    z = (s - mu) / stdev\n",
    "    return z.abs() > threshold\n",
    "    \n",
    "    \n",
    "def winsorize_series(series: pd.Series, lower: float = 0.05, upper: float = 0.95) -> pd.Series:\n",
    "    if not (0 <= lower < upper <= 1):\n",
    "        raise ValueError(\"Quantiles must satisfy 0 <= lower < upper <= 1\")\n",
    "        \n",
    "    s = pd.to_numeric(series, errors=\"coerce\")\n",
    "    low = s.quantile(lower)\n",
    "    high = s.quantile(upper)\n",
    "    return s.clip(lower=low, upper=high)"
   ]
  },
  {
   "cell_type": "code",
   "execution_count": 66,
   "id": "89afe62a-70b4-4809-9601-c68454f1f433",
   "metadata": {},
   "outputs": [
    {
     "name": "stdout",
     "output_type": "stream",
     "text": [
      "Data shape: (500, 2) — synthetic (saved to CSV)\n"
     ]
    },
    {
     "data": {
      "text/html": [
       "<div>\n",
       "<style scoped>\n",
       "    .dataframe tbody tr th:only-of-type {\n",
       "        vertical-align: middle;\n",
       "    }\n",
       "\n",
       "    .dataframe tbody tr th {\n",
       "        vertical-align: top;\n",
       "    }\n",
       "\n",
       "    .dataframe thead th {\n",
       "        text-align: right;\n",
       "    }\n",
       "</style>\n",
       "<table border=\"1\" class=\"dataframe\">\n",
       "  <thead>\n",
       "    <tr style=\"text-align: right;\">\n",
       "      <th></th>\n",
       "      <th>x</th>\n",
       "      <th>y</th>\n",
       "    </tr>\n",
       "  </thead>\n",
       "  <tbody>\n",
       "    <tr>\n",
       "      <th>0</th>\n",
       "      <td>1.101262</td>\n",
       "      <td>4.248333</td>\n",
       "    </tr>\n",
       "    <tr>\n",
       "      <th>1</th>\n",
       "      <td>0.338431</td>\n",
       "      <td>2.095149</td>\n",
       "    </tr>\n",
       "    <tr>\n",
       "      <th>2</th>\n",
       "      <td>-0.539972</td>\n",
       "      <td>-3.113905</td>\n",
       "    </tr>\n",
       "    <tr>\n",
       "      <th>3</th>\n",
       "      <td>-1.260242</td>\n",
       "      <td>-5.801234</td>\n",
       "    </tr>\n",
       "    <tr>\n",
       "      <th>4</th>\n",
       "      <td>-1.894621</td>\n",
       "      <td>-5.222242</td>\n",
       "    </tr>\n",
       "  </tbody>\n",
       "</table>\n",
       "</div>"
      ],
      "text/plain": [
       "          x         y\n",
       "0  1.101262  4.248333\n",
       "1  0.338431  2.095149\n",
       "2 -0.539972 -3.113905\n",
       "3 -1.260242 -5.801234\n",
       "4 -1.894621 -5.222242"
      ]
     },
     "execution_count": 66,
     "metadata": {},
     "output_type": "execute_result"
    }
   ],
   "source": [
    "#DATA_PATH = Path('data/raw/outliers_homework.csv')\n",
    "DATA_PATH = Path(\"data/raw/coco.csv\")\n",
    "DATA_PATH.parent.mkdir(parents=True, exist_ok=True)\n",
    "\n",
    "RNG = np.random.default_rng(seed=17)\n",
    "#seed=17 --> ensure same value will be created when running the code\n",
    "#its like a locker that stores these values\n",
    "\n",
    "def make_synthetic(n=500, outlier_frac=0.05, noise_std=1.0, rng=RNG):\n",
    "    #make_synthetic(number of value, edge_outlier, within this stdev, \n",
    "    \n",
    "    x = rng.normal(0.0,noise_std , n) #normal distribution\n",
    "    \n",
    "    y = 3.0 * x + rng.normal(0, noise_std, n)\n",
    "    \n",
    "    k = int(n * outlier_frac)\n",
    "    \n",
    "    if k > 0:\n",
    "        idx = rng.choice(n, size=k, replace=False)\n",
    "        # randomly selects some value (0 to n) not inclusive \n",
    "\n",
    "        #replace these values\n",
    "        x[idx] = x[idx] * rng.integers(6, 12, size=k) + rng.normal(0, 5, size=k)\n",
    "        y[idx] = y[idx] * rng.integers(6, 12, size=k) + rng.normal(0, 8, size=k)\n",
    "        \n",
    "    return pd.DataFrame({\"x\": x, \"y\": y})\n",
    "\n",
    "if DATA_PATH.exists():\n",
    "    df = pd.read_csv(DATA_PATH)\n",
    "else:\n",
    "    df = make_synthetic()\n",
    "    df.to_csv(DATA_PATH, index=False)\n",
    "    source = \"synthetic (saved to CSV)\"\n",
    "\n",
    "print(f\"Data shape: {df.shape} — {source}\")\n",
    "df.head()\n"
   ]
  },
  {
   "cell_type": "code",
   "execution_count": 74,
   "id": "9c8f0280-2013-42de-a229-60a8534bbf89",
   "metadata": {},
   "outputs": [],
   "source": [
    "target_row = 'x'\n",
    "target_col = 'y'"
   ]
  },
  {
   "cell_type": "code",
   "execution_count": 67,
   "id": "a8f7684d-64fc-4145-a4bd-22f1874bef18",
   "metadata": {},
   "outputs": [
    {
     "name": "stdout",
     "output_type": "stream",
     "text": [
      "IQR outlier values:\n",
      " [-9.38811841712654, 51.30017138260258, -33.5682429009469, 8.613094907722369, -50.763694709786066, 27.43548166833898, 9.996739408827992, 8.739326752343533, -12.713549281979345, 21.214691651335528, -10.72134712073067, 57.82683953671922, 16.259260280486032, 25.07570015913494, 10.38405356005341, 13.65008959439611, 34.68858113328203, -8.590563091067352, -18.445503497056745, 45.337843171180346, -27.948723065572725]\n",
      "\n",
      "Z-score outlier values:\n",
      " [51.30017138260258, -33.5682429009469, -50.763694709786066, 27.43548166833898, 21.214691651335528, 57.82683953671922, 25.07570015913494, 34.68858113328203, 45.337843171180346, -27.948723065572725]\n"
     ]
    }
   ],
   "source": [
    "#Create outlier flags\n",
    "\n",
    "#from src.outlier import detect_outliers_iqr, detect_outliers_zscore, winsorize_series\n",
    "\n",
    "# Outlier masks\n",
    "mask_iqr = detect_outliers_iqr(df[target_col])\n",
    "mask_z   = detect_outliers_zscore(df[target_col], threshold=3.0)\n",
    "\n",
    "# Values flagged by each method\n",
    "outliers_iqr = df.loc[mask_iqr, target_col]\n",
    "outliers_z   = df.loc[mask_z, target_col]\n",
    "\n",
    "print(\"IQR outlier values:\\n\", outliers_iqr.to_list())\n",
    "print(\"\\nZ-score outlier values:\\n\", outliers_z.to_list())\n"
   ]
  },
  {
   "cell_type": "code",
   "execution_count": 68,
   "id": "c50c8814-99fe-4156-ab61-2f3835adbcf2",
   "metadata": {},
   "outputs": [
    {
     "data": {
      "text/plain": [
       "outlier_iqr    0.046\n",
       "outlier_z      0.020\n",
       "dtype: float64"
      ]
     },
     "execution_count": 68,
     "metadata": {},
     "output_type": "execute_result"
    }
   ],
   "source": [
    "#Class Code Comparison\n",
    "target_col = 'daily_return' if 'daily_return' in df.columns else df.select_dtypes(include=['number']).columns[0]\n",
    "df['outlier_iqr'] = detect_outliers_iqr(df[target_col])\n",
    "df['outlier_z'] = detect_outliers_zscore(df[target_col], threshold=3.0)\n",
    "df[['outlier_iqr', 'outlier_z']].mean()  # fraction flagged"
   ]
  },
  {
   "cell_type": "markdown",
   "id": "e05298c2-8c1a-4eaa-bd50-b126b5348cc4",
   "metadata": {},
   "source": [
    "## Sensitivity analysis\n",
    "\n",
    "Fit a simple linear regression and compare coefficients/R2/MAE with vs. without outliers;\n",
    "optionally include winsorized."
   ]
  },
  {
   "cell_type": "code",
   "execution_count": 69,
   "id": "2123e4a6-1f4d-440b-be8f-7772b094bc3b",
   "metadata": {
    "jupyter": {
     "source_hidden": true
    }
   },
   "outputs": [
    {
     "name": "stdout",
     "output_type": "stream",
     "text": [
      "             all  filtered_iqr  winsorized\n",
      "mean   -0.106137     -0.052133   -0.058100\n",
      "median -0.049663     -0.047480   -0.049663\n",
      "std     2.086471      0.970897    1.000095\n"
     ]
    }
   ],
   "source": [
    "#class notes\n",
    "# Summary stats for full, filtered, and winsorized data\n",
    "def get_summary(series):\n",
    "    return pd.Series({\n",
    "        \"mean\": series.mean(),\n",
    "        \"median\": series.median(),\n",
    "        \"std\": series.std()\n",
    "    })\n",
    "\n",
    "# all data\n",
    "summ_all = get_summary(df[target_col])\n",
    "\n",
    "# filtered (no outliers)\n",
    "summ_filtered = get_summary(df.loc[~df[\"outlier_iqr\"], target_col])\n",
    "\n",
    "# winsorized (if function exists)\n",
    "summ_w = None\n",
    "if \"winsorize_series\" in globals():\n",
    "    w = winsorize_series(df[target_col])\n",
    "    summ_w = get_summary(w)\n",
    "\n",
    "# Combine into one table\n",
    "comp = pd.concat(\n",
    "    {\n",
    "        \"all\": summ_all,\n",
    "        \"filtered_iqr\": summ_filtered,\n",
    "        **({\"winsorized\": summ_w} if summ_w is not None else {})\n",
    "    },\n",
    "    axis=1\n",
    ")\n",
    "\n",
    "print(comp)\n"
   ]
  },
  {
   "cell_type": "code",
   "execution_count": 70,
   "id": "af10b6e5-e17d-43fe-9f0d-e68b8c938aaf",
   "metadata": {},
   "outputs": [
    {
     "name": "stdout",
     "output_type": "stream",
     "text": [
      "             all  filtered_iqr  winsorized\n",
      "mean   -0.106137     -0.052133   -0.058100\n",
      "median -0.049663     -0.047480   -0.049663\n",
      "std     2.086471      0.970897    1.000095\n"
     ]
    }
   ],
   "source": [
    "#  summary stats for all, filtered, and winsorized data\n",
    "def simple_summary(series):\n",
    "    return {\"mean\": series.mean(), \"median\": series.median(), \"std\": series.std()}\n",
    "\n",
    "summaries = {\n",
    "    \"all\": simple_summary(df[target_col]),\n",
    "    \"filtered_iqr\": simple_summary(df.loc[~df[\"outlier_iqr\"], target_col])\n",
    "}\n",
    "\n",
    "if \"winsorize_series\" in globals():\n",
    "    summaries[\"winsorized\"] = simple_summary(winsorize_series(df[target_col]))\n",
    "\n",
    "# Convert to DataFrame for display\n",
    "comp = pd.DataFrame(summaries)\n",
    "print(comp)\n"
   ]
  },
  {
   "cell_type": "code",
   "execution_count": 71,
   "id": "d8828e41-4f86-4c32-ae4a-6406cd940ea1",
   "metadata": {},
   "outputs": [
    {
     "name": "stderr",
     "output_type": "stream",
     "text": [
      "/var/folders/zp/cxqlz1xd78bcshll8_fr_byw0000gn/T/ipykernel_57388/1519556991.py:17: MatplotlibDeprecationWarning: The 'labels' parameter of boxplot() has been renamed 'tick_labels' since Matplotlib 3.9; support for the old name will be dropped in 3.11.\n",
      "  plt.boxplot(data, labels=labels)\n"
     ]
    },
    {
     "data": {
      "image/png": "[encoded data removed]",
      "text/plain": [
       "<Figure size 640x480 with 1 Axes>"
      ]
     },
     "metadata": {},
     "output_type": "display_data"
    }
   ],
   "source": [
    "# Boxplot of y\n",
    "\n",
    "y_raw = df[target_col]\n",
    "y_no_outliers = df.loc[~df[\"outlier_iqr\"], target_col]\n",
    "y_winsor = winsorize_series(y_raw) if 'winsorize_series' in globals() else None\n",
    "\n",
    "\n",
    "# Collect datasets for plotting\n",
    "data = [y_raw, y_no_outliers]\n",
    "labels = [\"Raw\", \"No Outliers\"]\n",
    "\n",
    "if y_winsor is not None:\n",
    "    data.append(y_winsor)\n",
    "    labels.append(\"Winsorized\")\n",
    "\n",
    "# Box plot\n",
    "plt.boxplot(data, labels=labels)\n",
    "plt.title(\"Comparison of Y Values\")\n",
    "plt.ylabel(\"Y\")\n",
    "plt.show()\n",
    "\n"
   ]
  },
  {
   "cell_type": "code",
   "execution_count": 88,
   "id": "776bde62-cb0d-4978-9e4b-e9050c8777f3",
   "metadata": {},
   "outputs": [
    {
     "data": {
      "image/png": "[encoded data removed]",
      "text/plain": [
       "<Figure size 640x480 with 1 Axes>"
      ]
     },
     "metadata": {},
     "output_type": "display_data"
    }
   ],
   "source": [
    "#Scatter plot (Outlier unlabled)\n",
    "\n",
    "\n",
    "plt.scatter(df[target_row], df[target_col])\n",
    "plt.title(\"Scatter Plot of Raw Data\")\n",
    "plt.xlabel(\"Index\")\n",
    "plt.ylabel(\"Y\")\n",
    "plt.show()\n"
   ]
  },
  {
   "cell_type": "code",
   "execution_count": 89,
   "id": "908e1ac1-2c44-4673-8c44-c2f8db294ea3",
   "metadata": {},
   "outputs": [
    {
     "data": {
      "image/png": "[encoded data removed]",
      "text/plain": [
       "<Figure size 640x480 with 1 Axes>"
      ]
     },
     "metadata": {},
     "output_type": "display_data"
    }
   ],
   "source": [
    "# Scatter Plot (Outlier highlighted)\n",
    "\n",
    "#no outliers \n",
    "inliers = ~df[\"outlier_iqr\"] #keeps only rows where outlier_iqr is False\n",
    "\n",
    "plt.scatter(df.loc[inliers, target_row], df.loc[inliers, target_col], alpha=0.7, marker=\".\", label=\"inlier\")\n",
    "plt.scatter(df.loc[~inliers, target_row], df.loc[~inliers, target_col], alpha=0.9, marker=\"x\", label=\"outlier\")\n",
    "\n",
    "plt.title(\"Scatter Plot of Raw Data (IQR outliers on y highlighted)\")\n",
    "plt.xlabel(\"x\"); plt.ylabel(\"y\"); plt.legend()\n",
    "plt.show()\n"
   ]
  },
  {
   "cell_type": "code",
   "execution_count": null,
   "id": "5f399fd0-b3a6-4a8b-a8ac-a019a65a8be7",
   "metadata": {},
   "outputs": [],
   "source": []
  }
 ],
 "metadata": {
  "kernelspec": {
   "display_name": "Python 3 (ipykernel)",
   "language": "python",
   "name": "python3"
  },
  "language_info": {
   "codemirror_mode": {
    "name": "ipython",
    "version": 3
   },
   "file_extension": ".py",
   "mimetype": "text/x-python",
   "name": "python",
   "nbconvert_exporter": "python",
   "pygments_lexer": "ipython3",
   "version": "3.10.18"
  }
 },
 "nbformat": 4,
 "nbformat_minor": 5
}
